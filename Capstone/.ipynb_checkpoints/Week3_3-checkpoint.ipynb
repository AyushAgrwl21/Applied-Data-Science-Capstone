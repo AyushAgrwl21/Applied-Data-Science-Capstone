{
 "cells": [
  {
   "cell_type": "markdown",
   "metadata": {},
   "source": [
    "# Week 3"
   ]
  },
  {
   "cell_type": "markdown",
   "metadata": {},
   "source": [
    "## Task 3"
   ]
  },
  {
   "cell_type": "markdown",
   "metadata": {},
   "source": [
    "Importing Libraries"
   ]
  },
  {
   "cell_type": "code",
   "execution_count": 1,
   "metadata": {},
   "outputs": [
    {
     "name": "stdout",
     "output_type": "stream",
     "text": [
      "Libraries imported.\n"
     ]
    }
   ],
   "source": [
    "import numpy as np\n",
    "import pandas as pd\n",
    "pd.set_option('display.max_columns', None)\n",
    "pd.set_option('display.max_rows', None)\n",
    "\n",
    "import json\n",
    "\n",
    "#!conda install -c conda-forge geopy --yes\n",
    "from geopy.geocoders import Nominatim\n",
    "\n",
    "from bs4 import BeautifulSoup\n",
    "from urllib.request import urlopen\n",
    "import requests\n",
    "from pandas.io.json import json_normalize\n",
    "\n",
    "import matplotlib.cm as cm\n",
    "import matplotlib.colors as colors\n",
    "\n",
    "from sklearn.cluster import KMeans\n",
    "\n",
    "#!conda install -c conda-forge folium=0.5.0 --yes\n",
    "import folium\n",
    "\n",
    "print('Libraries imported.')"
   ]
  },
  {
   "cell_type": "markdown",
   "metadata": {},
   "source": [
    "Fetching Data"
   ]
  },
  {
   "cell_type": "code",
   "execution_count": 2,
   "metadata": {},
   "outputs": [],
   "source": [
    "url = 'https://en.wikipedia.org/wiki/List_of_postal_codes_of_Canada:_M'\n",
    "page = urlopen(url).read().decode('utf-8')\n",
    "soup = BeautifulSoup(page, 'html.parser')\n",
    "\n",
    "wiki_table = soup.body.table.tbody"
   ]
  },
  {
   "cell_type": "code",
   "execution_count": 3,
   "metadata": {},
   "outputs": [],
   "source": [
    "def get_cell(element):\n",
    "    cells = element.find_all('td')\n",
    "    row = []\n",
    "    \n",
    "    for cell in cells:\n",
    "        if cell.a:            \n",
    "            if (cell.a.text):\n",
    "                row.append(cell.a.text)\n",
    "                continue\n",
    "        row.append(cell.string.strip())\n",
    "        \n",
    "    return row"
   ]
  },
  {
   "cell_type": "code",
   "execution_count": 4,
   "metadata": {},
   "outputs": [],
   "source": [
    "def get_row():    \n",
    "    data = []  \n",
    "    \n",
    "    for tr in wiki_table.find_all('tr'):\n",
    "        row = get_cell(tr)\n",
    "        if len(row) != 3:\n",
    "            continue\n",
    "        data.append(row)        \n",
    "    \n",
    "    return data"
   ]
  },
  {
   "cell_type": "markdown",
   "metadata": {},
   "source": [
    "Creating Dataframe"
   ]
  },
  {
   "cell_type": "code",
   "execution_count": 5,
   "metadata": {},
   "outputs": [
    {
     "data": {
      "text/html": [
       "<div>\n",
       "<style scoped>\n",
       "    .dataframe tbody tr th:only-of-type {\n",
       "        vertical-align: middle;\n",
       "    }\n",
       "\n",
       "    .dataframe tbody tr th {\n",
       "        vertical-align: top;\n",
       "    }\n",
       "\n",
       "    .dataframe thead th {\n",
       "        text-align: right;\n",
       "    }\n",
       "</style>\n",
       "<table border=\"1\" class=\"dataframe\">\n",
       "  <thead>\n",
       "    <tr style=\"text-align: right;\">\n",
       "      <th></th>\n",
       "      <th>PostalCode</th>\n",
       "      <th>Borough</th>\n",
       "      <th>Neighbourhood</th>\n",
       "    </tr>\n",
       "  </thead>\n",
       "  <tbody>\n",
       "    <tr>\n",
       "      <th>0</th>\n",
       "      <td>M1A</td>\n",
       "      <td>Not assigned</td>\n",
       "      <td>Not assigned</td>\n",
       "    </tr>\n",
       "    <tr>\n",
       "      <th>1</th>\n",
       "      <td>M2A</td>\n",
       "      <td>Not assigned</td>\n",
       "      <td>Not assigned</td>\n",
       "    </tr>\n",
       "    <tr>\n",
       "      <th>2</th>\n",
       "      <td>M3A</td>\n",
       "      <td>North York</td>\n",
       "      <td>Parkwoods</td>\n",
       "    </tr>\n",
       "    <tr>\n",
       "      <th>3</th>\n",
       "      <td>M4A</td>\n",
       "      <td>North York</td>\n",
       "      <td>Victoria Village</td>\n",
       "    </tr>\n",
       "    <tr>\n",
       "      <th>4</th>\n",
       "      <td>M5A</td>\n",
       "      <td>Downtown Toronto</td>\n",
       "      <td>Regent Park, Harbourfront</td>\n",
       "    </tr>\n",
       "  </tbody>\n",
       "</table>\n",
       "</div>"
      ],
      "text/plain": [
       "  PostalCode           Borough              Neighbourhood\n",
       "0        M1A      Not assigned               Not assigned\n",
       "1        M2A      Not assigned               Not assigned\n",
       "2        M3A        North York                  Parkwoods\n",
       "3        M4A        North York           Victoria Village\n",
       "4        M5A  Downtown Toronto  Regent Park, Harbourfront"
      ]
     },
     "execution_count": 5,
     "metadata": {},
     "output_type": "execute_result"
    }
   ],
   "source": [
    "data = get_row()\n",
    "columns = ['PostalCode', 'Borough', 'Neighbourhood']\n",
    "df = pd.DataFrame(data, columns=columns)\n",
    "df.head()"
   ]
  },
  {
   "cell_type": "markdown",
   "metadata": {},
   "source": [
    "Cleaning data"
   ]
  },
  {
   "cell_type": "code",
   "execution_count": 7,
   "metadata": {},
   "outputs": [
    {
     "data": {
      "text/html": [
       "<div>\n",
       "<style scoped>\n",
       "    .dataframe tbody tr th:only-of-type {\n",
       "        vertical-align: middle;\n",
       "    }\n",
       "\n",
       "    .dataframe tbody tr th {\n",
       "        vertical-align: top;\n",
       "    }\n",
       "\n",
       "    .dataframe thead th {\n",
       "        text-align: right;\n",
       "    }\n",
       "</style>\n",
       "<table border=\"1\" class=\"dataframe\">\n",
       "  <thead>\n",
       "    <tr style=\"text-align: right;\">\n",
       "      <th></th>\n",
       "      <th>PostalCode</th>\n",
       "      <th>Borough</th>\n",
       "      <th>Neighbourhood</th>\n",
       "    </tr>\n",
       "  </thead>\n",
       "  <tbody>\n",
       "    <tr>\n",
       "      <th>0</th>\n",
       "      <td>M1B</td>\n",
       "      <td>Scarborough</td>\n",
       "      <td>Malvern, Rouge</td>\n",
       "    </tr>\n",
       "    <tr>\n",
       "      <th>1</th>\n",
       "      <td>M1C</td>\n",
       "      <td>Scarborough</td>\n",
       "      <td>Rouge Hill, Port Union, Highland Creek</td>\n",
       "    </tr>\n",
       "    <tr>\n",
       "      <th>2</th>\n",
       "      <td>M1E</td>\n",
       "      <td>Scarborough</td>\n",
       "      <td>Guildwood, Morningside, West Hill</td>\n",
       "    </tr>\n",
       "    <tr>\n",
       "      <th>3</th>\n",
       "      <td>M1G</td>\n",
       "      <td>Scarborough</td>\n",
       "      <td>Woburn</td>\n",
       "    </tr>\n",
       "    <tr>\n",
       "      <th>4</th>\n",
       "      <td>M1H</td>\n",
       "      <td>Scarborough</td>\n",
       "      <td>Cedarbrae</td>\n",
       "    </tr>\n",
       "  </tbody>\n",
       "</table>\n",
       "</div>"
      ],
      "text/plain": [
       "  PostalCode      Borough                           Neighbourhood\n",
       "0        M1B  Scarborough                          Malvern, Rouge\n",
       "1        M1C  Scarborough  Rouge Hill, Port Union, Highland Creek\n",
       "2        M1E  Scarborough       Guildwood, Morningside, West Hill\n",
       "3        M1G  Scarborough                                  Woburn\n",
       "4        M1H  Scarborough                               Cedarbrae"
      ]
     },
     "execution_count": 7,
     "metadata": {},
     "output_type": "execute_result"
    }
   ],
   "source": [
    "df1 = df[df.Borough != 'Not assigned']\n",
    "df1 = df1.sort_values(by=['PostalCode','Borough'])\n",
    "\n",
    "df1.reset_index(inplace=True)\n",
    "df1.drop('index',axis=1,inplace=True)\n",
    "\n",
    "df1.head()"
   ]
  },
  {
   "cell_type": "code",
   "execution_count": 8,
   "metadata": {},
   "outputs": [],
   "source": [
    "\n",
    "df_postcodes = df1['PostalCode']\n",
    "df_postcodes.drop_duplicates(inplace=True)\n",
    "df2 = pd.DataFrame(df_postcodes)\n",
    "df2['Borough'] = '';\n",
    "df2['Neighbourhood'] = '';\n",
    "\n",
    "\n",
    "df2.reset_index(inplace=True)\n",
    "df2.drop('index', axis=1, inplace=True)\n",
    "df1.reset_index(inplace=True)\n",
    "df1.drop('index', axis=1, inplace=True)\n",
    "\n",
    "for i in df2.index:\n",
    "    for j in df1.index:\n",
    "        if df2.iloc[i, 0] == df1.iloc[j, 0]:\n",
    "            df2.iloc[i, 1] = df1.iloc[j, 1]\n",
    "            df2.iloc[i, 2] = df2.iloc[i, 2] + ',' + df1.iloc[j, 2]\n",
    "            \n",
    "for i in df2.index:\n",
    "    s = df2.iloc[i, 2]\n",
    "    if s[0] == ',':\n",
    "        s =s [1:]\n",
    "    df2.iloc[i,2 ] = s"
   ]
  },
  {
   "cell_type": "code",
   "execution_count": 9,
   "metadata": {},
   "outputs": [
    {
     "data": {
      "text/plain": [
       "(103, 3)"
      ]
     },
     "execution_count": 9,
     "metadata": {},
     "output_type": "execute_result"
    }
   ],
   "source": [
    "df2.shape"
   ]
  },
  {
   "cell_type": "markdown",
   "metadata": {},
   "source": [
    "Adding Latitudes and Longitudes"
   ]
  },
  {
   "cell_type": "code",
   "execution_count": 10,
   "metadata": {},
   "outputs": [
    {
     "data": {
      "text/html": [
       "<div>\n",
       "<style scoped>\n",
       "    .dataframe tbody tr th:only-of-type {\n",
       "        vertical-align: middle;\n",
       "    }\n",
       "\n",
       "    .dataframe tbody tr th {\n",
       "        vertical-align: top;\n",
       "    }\n",
       "\n",
       "    .dataframe thead th {\n",
       "        text-align: right;\n",
       "    }\n",
       "</style>\n",
       "<table border=\"1\" class=\"dataframe\">\n",
       "  <thead>\n",
       "    <tr style=\"text-align: right;\">\n",
       "      <th></th>\n",
       "      <th>Postal Code</th>\n",
       "      <th>Latitude</th>\n",
       "      <th>Longitude</th>\n",
       "    </tr>\n",
       "  </thead>\n",
       "  <tbody>\n",
       "    <tr>\n",
       "      <th>0</th>\n",
       "      <td>M1B</td>\n",
       "      <td>43.806686</td>\n",
       "      <td>-79.194353</td>\n",
       "    </tr>\n",
       "    <tr>\n",
       "      <th>1</th>\n",
       "      <td>M1C</td>\n",
       "      <td>43.784535</td>\n",
       "      <td>-79.160497</td>\n",
       "    </tr>\n",
       "    <tr>\n",
       "      <th>2</th>\n",
       "      <td>M1E</td>\n",
       "      <td>43.763573</td>\n",
       "      <td>-79.188711</td>\n",
       "    </tr>\n",
       "    <tr>\n",
       "      <th>3</th>\n",
       "      <td>M1G</td>\n",
       "      <td>43.770992</td>\n",
       "      <td>-79.216917</td>\n",
       "    </tr>\n",
       "    <tr>\n",
       "      <th>4</th>\n",
       "      <td>M1H</td>\n",
       "      <td>43.773136</td>\n",
       "      <td>-79.239476</td>\n",
       "    </tr>\n",
       "  </tbody>\n",
       "</table>\n",
       "</div>"
      ],
      "text/plain": [
       "  Postal Code   Latitude  Longitude\n",
       "0         M1B  43.806686 -79.194353\n",
       "1         M1C  43.784535 -79.160497\n",
       "2         M1E  43.763573 -79.188711\n",
       "3         M1G  43.770992 -79.216917\n",
       "4         M1H  43.773136 -79.239476"
      ]
     },
     "execution_count": 10,
     "metadata": {},
     "output_type": "execute_result"
    }
   ],
   "source": [
    "df2['Latitude'] = '0';\n",
    "df2['Longitude'] = '0';\n",
    "\n",
    "df_geo = pd.read_csv('Geospatial_Coordinates.csv')\n",
    "df_geo.head()"
   ]
  },
  {
   "cell_type": "code",
   "execution_count": 11,
   "metadata": {},
   "outputs": [
    {
     "data": {
      "text/html": [
       "<div>\n",
       "<style scoped>\n",
       "    .dataframe tbody tr th:only-of-type {\n",
       "        vertical-align: middle;\n",
       "    }\n",
       "\n",
       "    .dataframe tbody tr th {\n",
       "        vertical-align: top;\n",
       "    }\n",
       "\n",
       "    .dataframe thead th {\n",
       "        text-align: right;\n",
       "    }\n",
       "</style>\n",
       "<table border=\"1\" class=\"dataframe\">\n",
       "  <thead>\n",
       "    <tr style=\"text-align: right;\">\n",
       "      <th></th>\n",
       "      <th>PostalCode</th>\n",
       "      <th>Borough</th>\n",
       "      <th>Neighbourhood</th>\n",
       "      <th>Latitude</th>\n",
       "      <th>Longitude</th>\n",
       "    </tr>\n",
       "  </thead>\n",
       "  <tbody>\n",
       "    <tr>\n",
       "      <th>0</th>\n",
       "      <td>M1B</td>\n",
       "      <td>Scarborough</td>\n",
       "      <td>Malvern, Rouge</td>\n",
       "      <td>43.8067</td>\n",
       "      <td>-79.1944</td>\n",
       "    </tr>\n",
       "    <tr>\n",
       "      <th>1</th>\n",
       "      <td>M1C</td>\n",
       "      <td>Scarborough</td>\n",
       "      <td>Rouge Hill, Port Union, Highland Creek</td>\n",
       "      <td>43.7845</td>\n",
       "      <td>-79.1605</td>\n",
       "    </tr>\n",
       "    <tr>\n",
       "      <th>2</th>\n",
       "      <td>M1E</td>\n",
       "      <td>Scarborough</td>\n",
       "      <td>Guildwood, Morningside, West Hill</td>\n",
       "      <td>43.7636</td>\n",
       "      <td>-79.1887</td>\n",
       "    </tr>\n",
       "    <tr>\n",
       "      <th>3</th>\n",
       "      <td>M1G</td>\n",
       "      <td>Scarborough</td>\n",
       "      <td>Woburn</td>\n",
       "      <td>43.771</td>\n",
       "      <td>-79.2169</td>\n",
       "    </tr>\n",
       "    <tr>\n",
       "      <th>4</th>\n",
       "      <td>M1H</td>\n",
       "      <td>Scarborough</td>\n",
       "      <td>Cedarbrae</td>\n",
       "      <td>43.7731</td>\n",
       "      <td>-79.2395</td>\n",
       "    </tr>\n",
       "  </tbody>\n",
       "</table>\n",
       "</div>"
      ],
      "text/plain": [
       "  PostalCode      Borough                           Neighbourhood Latitude  \\\n",
       "0        M1B  Scarborough                          Malvern, Rouge  43.8067   \n",
       "1        M1C  Scarborough  Rouge Hill, Port Union, Highland Creek  43.7845   \n",
       "2        M1E  Scarborough       Guildwood, Morningside, West Hill  43.7636   \n",
       "3        M1G  Scarborough                                  Woburn   43.771   \n",
       "4        M1H  Scarborough                               Cedarbrae  43.7731   \n",
       "\n",
       "  Longitude  \n",
       "0  -79.1944  \n",
       "1  -79.1605  \n",
       "2  -79.1887  \n",
       "3  -79.2169  \n",
       "4  -79.2395  "
      ]
     },
     "execution_count": 11,
     "metadata": {},
     "output_type": "execute_result"
    }
   ],
   "source": [
    "for i in df2.index:\n",
    "    for j in df_geo.index:\n",
    "        if df2.iloc[i, 0] == df_geo.iloc[j, 0]:\n",
    "            df2.iloc[i, 3] = df_geo.iloc[j, 1]\n",
    "            df2.iloc[i, 4] = df_geo.iloc[j, 2]\n",
    "            \n",
    "df2.head()"
   ]
  },
  {
   "cell_type": "markdown",
   "metadata": {},
   "source": [
    "Toronto region"
   ]
  },
  {
   "cell_type": "code",
   "execution_count": 12,
   "metadata": {},
   "outputs": [
    {
     "data": {
      "text/html": [
       "<div>\n",
       "<style scoped>\n",
       "    .dataframe tbody tr th:only-of-type {\n",
       "        vertical-align: middle;\n",
       "    }\n",
       "\n",
       "    .dataframe tbody tr th {\n",
       "        vertical-align: top;\n",
       "    }\n",
       "\n",
       "    .dataframe thead th {\n",
       "        text-align: right;\n",
       "    }\n",
       "</style>\n",
       "<table border=\"1\" class=\"dataframe\">\n",
       "  <thead>\n",
       "    <tr style=\"text-align: right;\">\n",
       "      <th></th>\n",
       "      <th>PostalCode</th>\n",
       "      <th>Borough</th>\n",
       "      <th>Neighbourhood</th>\n",
       "      <th>Latitude</th>\n",
       "      <th>Longitude</th>\n",
       "    </tr>\n",
       "  </thead>\n",
       "  <tbody>\n",
       "    <tr>\n",
       "      <th>37</th>\n",
       "      <td>M4E</td>\n",
       "      <td>East Toronto</td>\n",
       "      <td>The Beaches</td>\n",
       "      <td>43.6764</td>\n",
       "      <td>-79.293</td>\n",
       "    </tr>\n",
       "    <tr>\n",
       "      <th>41</th>\n",
       "      <td>M4K</td>\n",
       "      <td>East Toronto</td>\n",
       "      <td>The Danforth West, Riverdale</td>\n",
       "      <td>43.6796</td>\n",
       "      <td>-79.3522</td>\n",
       "    </tr>\n",
       "    <tr>\n",
       "      <th>42</th>\n",
       "      <td>M4L</td>\n",
       "      <td>East Toronto</td>\n",
       "      <td>India Bazaar, The Beaches West</td>\n",
       "      <td>43.669</td>\n",
       "      <td>-79.3156</td>\n",
       "    </tr>\n",
       "    <tr>\n",
       "      <th>43</th>\n",
       "      <td>M4M</td>\n",
       "      <td>East Toronto</td>\n",
       "      <td>Studio District</td>\n",
       "      <td>43.6595</td>\n",
       "      <td>-79.3409</td>\n",
       "    </tr>\n",
       "    <tr>\n",
       "      <th>44</th>\n",
       "      <td>M4N</td>\n",
       "      <td>Central Toronto</td>\n",
       "      <td>Lawrence Park</td>\n",
       "      <td>43.728</td>\n",
       "      <td>-79.3888</td>\n",
       "    </tr>\n",
       "  </tbody>\n",
       "</table>\n",
       "</div>"
      ],
      "text/plain": [
       "   PostalCode          Borough                   Neighbourhood Latitude  \\\n",
       "37        M4E     East Toronto                     The Beaches  43.6764   \n",
       "41        M4K     East Toronto    The Danforth West, Riverdale  43.6796   \n",
       "42        M4L     East Toronto  India Bazaar, The Beaches West   43.669   \n",
       "43        M4M     East Toronto                 Studio District  43.6595   \n",
       "44        M4N  Central Toronto                   Lawrence Park   43.728   \n",
       "\n",
       "   Longitude  \n",
       "37   -79.293  \n",
       "41  -79.3522  \n",
       "42  -79.3156  \n",
       "43  -79.3409  \n",
       "44  -79.3888  "
      ]
     },
     "execution_count": 12,
     "metadata": {},
     "output_type": "execute_result"
    }
   ],
   "source": [
    "df3 = df2.copy()\n",
    "df3 = df3[df2.Borough.str.contains(\"Toronto\")]\n",
    "df3.head()"
   ]
  },
  {
   "cell_type": "markdown",
   "metadata": {},
   "source": [
    "Creating a clustered map"
   ]
  },
  {
   "cell_type": "code",
   "execution_count": 13,
   "metadata": {},
   "outputs": [
    {
     "data": {
      "text/html": [
       "<div style=\"width:100%;\"><div style=\"position:relative;width:100%;height:0;padding-bottom:60%;\"><span style=\"color:#565656\">Make this Notebook Trusted to load map: File -> Trust Notebook</span><iframe src=\"about:blank\" style=\"position:absolute;width:100%;height:100%;left:0;top:0;border:none !important;\" data-html=PCFET0NUWVBFIGh0bWw+CjxoZWFkPiAgICAKICAgIDxtZXRhIGh0dHAtZXF1aXY9ImNvbnRlbnQtdHlwZSIgY29udGVudD0idGV4dC9odG1sOyBjaGFyc2V0PVVURi04IiAvPgogICAgCiAgICAgICAgPHNjcmlwdD4KICAgICAgICAgICAgTF9OT19UT1VDSCA9IGZhbHNlOwogICAgICAgICAgICBMX0RJU0FCTEVfM0QgPSBmYWxzZTsKICAgICAgICA8L3NjcmlwdD4KICAgIAogICAgPHNjcmlwdCBzcmM9Imh0dHBzOi8vY2RuLmpzZGVsaXZyLm5ldC9ucG0vbGVhZmxldEAxLjYuMC9kaXN0L2xlYWZsZXQuanMiPjwvc2NyaXB0PgogICAgPHNjcmlwdCBzcmM9Imh0dHBzOi8vY29kZS5qcXVlcnkuY29tL2pxdWVyeS0xLjEyLjQubWluLmpzIj48L3NjcmlwdD4KICAgIDxzY3JpcHQgc3JjPSJodHRwczovL21heGNkbi5ib290c3RyYXBjZG4uY29tL2Jvb3RzdHJhcC8zLjIuMC9qcy9ib290c3RyYXAubWluLmpzIj48L3NjcmlwdD4KICAgIDxzY3JpcHQgc3JjPSJodHRwczovL2NkbmpzLmNsb3VkZmxhcmUuY29tL2FqYXgvbGlicy9MZWFmbGV0LmF3ZXNvbWUtbWFya2Vycy8yLjAuMi9sZWFmbGV0LmF3ZXNvbWUtbWFya2Vycy5qcyI+PC9zY3JpcHQ+CiAgICA8bGluayByZWw9InN0eWxlc2hlZXQiIGhyZWY9Imh0dHBzOi8vY2RuLmpzZGVsaXZyLm5ldC9ucG0vbGVhZmxldEAxLjYuMC9kaXN0L2xlYWZsZXQuY3NzIi8+CiAgICA8bGluayByZWw9InN0eWxlc2hlZXQiIGhyZWY9Imh0dHBzOi8vbWF4Y2RuLmJvb3RzdHJhcGNkbi5jb20vYm9vdHN0cmFwLzMuMi4wL2Nzcy9ib290c3RyYXAubWluLmNzcyIvPgogICAgPGxpbmsgcmVsPSJzdHlsZXNoZWV0IiBocmVmPSJodHRwczovL21heGNkbi5ib290c3RyYXBjZG4uY29tL2Jvb3RzdHJhcC8zLjIuMC9jc3MvYm9vdHN0cmFwLXRoZW1lLm1pbi5jc3MiLz4KICAgIDxsaW5rIHJlbD0ic3R5bGVzaGVldCIgaHJlZj0iaHR0cHM6Ly9tYXhjZG4uYm9vdHN0cmFwY2RuLmNvbS9mb250LWF3ZXNvbWUvNC42LjMvY3NzL2ZvbnQtYXdlc29tZS5taW4uY3NzIi8+CiAgICA8bGluayByZWw9InN0eWxlc2hlZXQiIGhyZWY9Imh0dHBzOi8vY2RuanMuY2xvdWRmbGFyZS5jb20vYWpheC9saWJzL0xlYWZsZXQuYXdlc29tZS1tYXJrZXJzLzIuMC4yL2xlYWZsZXQuYXdlc29tZS1tYXJrZXJzLmNzcyIvPgogICAgPGxpbmsgcmVsPSJzdHlsZXNoZWV0IiBocmVmPSJodHRwczovL3Jhd2Nkbi5naXRoYWNrLmNvbS9weXRob24tdmlzdWFsaXphdGlvbi9mb2xpdW0vbWFzdGVyL2ZvbGl1bS90ZW1wbGF0ZXMvbGVhZmxldC5hd2Vzb21lLnJvdGF0ZS5jc3MiLz4KICAgIDxzdHlsZT5odG1sLCBib2R5IHt3aWR0aDogMTAwJTtoZWlnaHQ6IDEwMCU7bWFyZ2luOiAwO3BhZGRpbmc6IDA7fTwvc3R5bGU+CiAgICA8c3R5bGU+I21hcCB7cG9zaXRpb246YWJzb2x1dGU7dG9wOjA7Ym90dG9tOjA7cmlnaHQ6MDtsZWZ0OjA7fTwvc3R5bGU+CiAgICAKICAgICAgICAgICAgPG1ldGEgbmFtZT0idmlld3BvcnQiIGNvbnRlbnQ9IndpZHRoPWRldmljZS13aWR0aCwKICAgICAgICAgICAgICAgIGluaXRpYWwtc2NhbGU9MS4wLCBtYXhpbXVtLXNjYWxlPTEuMCwgdXNlci1zY2FsYWJsZT1ubyIgLz4KICAgICAgICAgICAgPHN0eWxlPgogICAgICAgICAgICAgICAgI21hcF8wY2VmMjI2YmIyMDA0NTMwYjBjZjIxMzMzYmNiMDA0YyB7CiAgICAgICAgICAgICAgICAgICAgcG9zaXRpb246IHJlbGF0aXZlOwogICAgICAgICAgICAgICAgICAgIHdpZHRoOiAxMDAuMCU7CiAgICAgICAgICAgICAgICAgICAgaGVpZ2h0OiAxMDAuMCU7CiAgICAgICAgICAgICAgICAgICAgbGVmdDogMC4wJTsKICAgICAgICAgICAgICAgICAgICB0b3A6IDAuMCU7CiAgICAgICAgICAgICAgICB9CiAgICAgICAgICAgIDwvc3R5bGU+CiAgICAgICAgCjwvaGVhZD4KPGJvZHk+ICAgIAogICAgCiAgICAgICAgICAgIDxkaXYgY2xhc3M9ImZvbGl1bS1tYXAiIGlkPSJtYXBfMGNlZjIyNmJiMjAwNDUzMGIwY2YyMTMzM2JjYjAwNGMiID48L2Rpdj4KICAgICAgICAKPC9ib2R5Pgo8c2NyaXB0PiAgICAKICAgIAogICAgICAgICAgICB2YXIgbWFwXzBjZWYyMjZiYjIwMDQ1MzBiMGNmMjEzMzNiY2IwMDRjID0gTC5tYXAoCiAgICAgICAgICAgICAgICAibWFwXzBjZWYyMjZiYjIwMDQ1MzBiMGNmMjEzMzNiY2IwMDRjIiwKICAgICAgICAgICAgICAgIHsKICAgICAgICAgICAgICAgICAgICBjZW50ZXI6IFs0My42NSwgLTc5LjRdLAogICAgICAgICAgICAgICAgICAgIGNyczogTC5DUlMuRVBTRzM4NTcsCiAgICAgICAgICAgICAgICAgICAgem9vbTogMTIsCiAgICAgICAgICAgICAgICAgICAgem9vbUNvbnRyb2w6IHRydWUsCiAgICAgICAgICAgICAgICAgICAgcHJlZmVyQ2FudmFzOiBmYWxzZSwKICAgICAgICAgICAgICAgIH0KICAgICAgICAgICAgKTsKCiAgICAgICAgICAgIAoKICAgICAgICAKICAgIAogICAgICAgICAgICB2YXIgdGlsZV9sYXllcl80N2NlMWVhMmRjOGI0NDljYmEyNGM5NzE1ZjNhYTc3ZiA9IEwudGlsZUxheWVyKAogICAgICAgICAgICAgICAgImh0dHBzOi8ve3N9LnRpbGUub3BlbnN0cmVldG1hcC5vcmcve3p9L3t4fS97eX0ucG5nIiwKICAgICAgICAgICAgICAgIHsiYXR0cmlidXRpb24iOiAiRGF0YSBieSBcdTAwMjZjb3B5OyBcdTAwM2NhIGhyZWY9XCJodHRwOi8vb3BlbnN0cmVldG1hcC5vcmdcIlx1MDAzZU9wZW5TdHJlZXRNYXBcdTAwM2MvYVx1MDAzZSwgdW5kZXIgXHUwMDNjYSBocmVmPVwiaHR0cDovL3d3dy5vcGVuc3RyZWV0bWFwLm9yZy9jb3B5cmlnaHRcIlx1MDAzZU9EYkxcdTAwM2MvYVx1MDAzZS4iLCAiZGV0ZWN0UmV0aW5hIjogZmFsc2UsICJtYXhOYXRpdmVab29tIjogMTgsICJtYXhab29tIjogMTgsICJtaW5ab29tIjogMCwgIm5vV3JhcCI6IGZhbHNlLCAib3BhY2l0eSI6IDEsICJzdWJkb21haW5zIjogImFiYyIsICJ0bXMiOiBmYWxzZX0KICAgICAgICAgICAgKS5hZGRUbyhtYXBfMGNlZjIyNmJiMjAwNDUzMGIwY2YyMTMzM2JjYjAwNGMpOwogICAgICAgIAogICAgCiAgICAgICAgICAgIHZhciBjaXJjbGVfbWFya2VyXzdkYjgyNjY2ZTY0ZjQwMDk5YjdmNGY2ODkzNWNhZGY2ID0gTC5jaXJjbGVNYXJrZXIoCiAgICAgICAgICAgICAgICBbNDMuNjc2MzU3Mzk5OTk5OTksIC03OS4yOTMwMzEyXSwKICAgICAgICAgICAgICAgIHsiYnViYmxpbmdNb3VzZUV2ZW50cyI6IHRydWUsICJjb2xvciI6ICJibGFjayIsICJkYXNoQXJyYXkiOiBudWxsLCAiZGFzaE9mZnNldCI6IG51bGwsICJmaWxsIjogdHJ1ZSwgImZpbGxDb2xvciI6ICJncmVlbiIsICJmaWxsT3BhY2l0eSI6IDAuNywgImZpbGxSdWxlIjogImV2ZW5vZGQiLCAibGluZUNhcCI6ICJyb3VuZCIsICJsaW5lSm9pbiI6ICJyb3VuZCIsICJvcGFjaXR5IjogMS4wLCAicmFkaXVzIjogNSwgInN0cm9rZSI6IHRydWUsICJ3ZWlnaHQiOiAzfQogICAgICAgICAgICApLmFkZFRvKG1hcF8wY2VmMjI2YmIyMDA0NTMwYjBjZjIxMzMzYmNiMDA0Yyk7CiAgICAgICAgCiAgICAKICAgICAgICB2YXIgcG9wdXBfNzAwNTcxOWQ1NWRiNDc0MGI3ZmQyNjJjYjI1YTY4YTMgPSBMLnBvcHVwKHsibWF4V2lkdGgiOiAiMTAwJSJ9KTsKCiAgICAgICAgCiAgICAgICAgICAgIHZhciBodG1sXzZiZTY4NTE4ODY0NDRjN2Q4NmZkN2UxMDMyOTc4NGFjID0gJChgPGRpdiBpZD0iaHRtbF82YmU2ODUxODg2NDQ0YzdkODZmZDdlMTAzMjk3ODRhYyIgc3R5bGU9IndpZHRoOiAxMDAuMCU7IGhlaWdodDogMTAwLjAlOyI+RWFzdCBUb3JvbnRvPC9kaXY+YClbMF07CiAgICAgICAgICAgIHBvcHVwXzcwMDU3MTlkNTVkYjQ3NDBiN2ZkMjYyY2IyNWE2OGEzLnNldENvbnRlbnQoaHRtbF82YmU2ODUxODg2NDQ0YzdkODZmZDdlMTAzMjk3ODRhYyk7CiAgICAgICAgCgogICAgICAgIGNpcmNsZV9tYXJrZXJfN2RiODI2NjZlNjRmNDAwOTliN2Y0ZjY4OTM1Y2FkZjYuYmluZFBvcHVwKHBvcHVwXzcwMDU3MTlkNTVkYjQ3NDBiN2ZkMjYyY2IyNWE2OGEzKQogICAgICAgIDsKCiAgICAgICAgCiAgICAKICAgIAogICAgICAgICAgICB2YXIgY2lyY2xlX21hcmtlcl8zNGYxYjllZWM4ZTM0NDMyOGQyOWM0MjE1MzA2NjdiNyA9IEwuY2lyY2xlTWFya2VyKAogICAgICAgICAgICAgICAgWzQzLjY3OTU1NzEsIC03OS4zNTIxODhdLAogICAgICAgICAgICAgICAgeyJidWJibGluZ01vdXNlRXZlbnRzIjogdHJ1ZSwgImNvbG9yIjogImJsYWNrIiwgImRhc2hBcnJheSI6IG51bGwsICJkYXNoT2Zmc2V0IjogbnVsbCwgImZpbGwiOiB0cnVlLCAiZmlsbENvbG9yIjogImdyZWVuIiwgImZpbGxPcGFjaXR5IjogMC43LCAiZmlsbFJ1bGUiOiAiZXZlbm9kZCIsICJsaW5lQ2FwIjogInJvdW5kIiwgImxpbmVKb2luIjogInJvdW5kIiwgIm9wYWNpdHkiOiAxLjAsICJyYWRpdXMiOiA1LCAic3Ryb2tlIjogdHJ1ZSwgIndlaWdodCI6IDN9CiAgICAgICAgICAgICkuYWRkVG8obWFwXzBjZWYyMjZiYjIwMDQ1MzBiMGNmMjEzMzNiY2IwMDRjKTsKICAgICAgICAKICAgIAogICAgICAgIHZhciBwb3B1cF9mZDcyZDJlYTY5MTk0YjBkOWRkMjFmOTM2ZThlMWUzNyA9IEwucG9wdXAoeyJtYXhXaWR0aCI6ICIxMDAlIn0pOwoKICAgICAgICAKICAgICAgICAgICAgdmFyIGh0bWxfNmJlOTk5MTI4MzNmNDE2NDhiMjczMTBhM2QzZTYyZjcgPSAkKGA8ZGl2IGlkPSJodG1sXzZiZTk5OTEyODMzZjQxNjQ4YjI3MzEwYTNkM2U2MmY3IiBzdHlsZT0id2lkdGg6IDEwMC4wJTsgaGVpZ2h0OiAxMDAuMCU7Ij5FYXN0IFRvcm9udG88L2Rpdj5gKVswXTsKICAgICAgICAgICAgcG9wdXBfZmQ3MmQyZWE2OTE5NGIwZDlkZDIxZjkzNmU4ZTFlMzcuc2V0Q29udGVudChodG1sXzZiZTk5OTEyODMzZjQxNjQ4YjI3MzEwYTNkM2U2MmY3KTsKICAgICAgICAKCiAgICAgICAgY2lyY2xlX21hcmtlcl8zNGYxYjllZWM4ZTM0NDMyOGQyOWM0MjE1MzA2NjdiNy5iaW5kUG9wdXAocG9wdXBfZmQ3MmQyZWE2OTE5NGIwZDlkZDIxZjkzNmU4ZTFlMzcpCiAgICAgICAgOwoKICAgICAgICAKICAgIAogICAgCiAgICAgICAgICAgIHZhciBjaXJjbGVfbWFya2VyXzdiMDg5ZGM5YjIyODQ3MjA5YWMwZmY4YzFlNjMzZThkID0gTC5jaXJjbGVNYXJrZXIoCiAgICAgICAgICAgICAgICBbNDMuNjY4OTk4NSwgLTc5LjMxNTU3MTU5OTk5OTk4XSwKICAgICAgICAgICAgICAgIHsiYnViYmxpbmdNb3VzZUV2ZW50cyI6IHRydWUsICJjb2xvciI6ICJibGFjayIsICJkYXNoQXJyYXkiOiBudWxsLCAiZGFzaE9mZnNldCI6IG51bGwsICJmaWxsIjogdHJ1ZSwgImZpbGxDb2xvciI6ICJncmVlbiIsICJmaWxsT3BhY2l0eSI6IDAuNywgImZpbGxSdWxlIjogImV2ZW5vZGQiLCAibGluZUNhcCI6ICJyb3VuZCIsICJsaW5lSm9pbiI6ICJyb3VuZCIsICJvcGFjaXR5IjogMS4wLCAicmFkaXVzIjogNSwgInN0cm9rZSI6IHRydWUsICJ3ZWlnaHQiOiAzfQogICAgICAgICAgICApLmFkZFRvKG1hcF8wY2VmMjI2YmIyMDA0NTMwYjBjZjIxMzMzYmNiMDA0Yyk7CiAgICAgICAgCiAgICAKICAgICAgICB2YXIgcG9wdXBfNzQ0MmIwNzQzMjE4NDc3ODllMDM2YmExNjFmODU2ZGYgPSBMLnBvcHVwKHsibWF4V2lkdGgiOiAiMTAwJSJ9KTsKCiAgICAgICAgCiAgICAgICAgICAgIHZhciBodG1sXzZkODk2NTJiNDUyZDRlZmE5MDFhMWIxMDMzYWIxYjg2ID0gJChgPGRpdiBpZD0iaHRtbF82ZDg5NjUyYjQ1MmQ0ZWZhOTAxYTFiMTAzM2FiMWI4NiIgc3R5bGU9IndpZHRoOiAxMDAuMCU7IGhlaWdodDogMTAwLjAlOyI+RWFzdCBUb3JvbnRvPC9kaXY+YClbMF07CiAgICAgICAgICAgIHBvcHVwXzc0NDJiMDc0MzIxODQ3Nzg5ZTAzNmJhMTYxZjg1NmRmLnNldENvbnRlbnQoaHRtbF82ZDg5NjUyYjQ1MmQ0ZWZhOTAxYTFiMTAzM2FiMWI4Nik7CiAgICAgICAgCgogICAgICAgIGNpcmNsZV9tYXJrZXJfN2IwODlkYzliMjI4NDcyMDlhYzBmZjhjMWU2MzNlOGQuYmluZFBvcHVwKHBvcHVwXzc0NDJiMDc0MzIxODQ3Nzg5ZTAzNmJhMTYxZjg1NmRmKQogICAgICAgIDsKCiAgICAgICAgCiAgICAKICAgIAogICAgICAgICAgICB2YXIgY2lyY2xlX21hcmtlcl9lYjI0NzgyZTZlYmU0M2JjODQ5YjE0NGQ5YTM3MzI4MSA9IEwuY2lyY2xlTWFya2VyKAogICAgICAgICAgICAgICAgWzQzLjY1OTUyNTUsIC03OS4zNDA5MjNdLAogICAgICAgICAgICAgICAgeyJidWJibGluZ01vdXNlRXZlbnRzIjogdHJ1ZSwgImNvbG9yIjogImJsYWNrIiwgImRhc2hBcnJheSI6IG51bGwsICJkYXNoT2Zmc2V0IjogbnVsbCwgImZpbGwiOiB0cnVlLCAiZmlsbENvbG9yIjogImdyZWVuIiwgImZpbGxPcGFjaXR5IjogMC43LCAiZmlsbFJ1bGUiOiAiZXZlbm9kZCIsICJsaW5lQ2FwIjogInJvdW5kIiwgImxpbmVKb2luIjogInJvdW5kIiwgIm9wYWNpdHkiOiAxLjAsICJyYWRpdXMiOiA1LCAic3Ryb2tlIjogdHJ1ZSwgIndlaWdodCI6IDN9CiAgICAgICAgICAgICkuYWRkVG8obWFwXzBjZWYyMjZiYjIwMDQ1MzBiMGNmMjEzMzNiY2IwMDRjKTsKICAgICAgICAKICAgIAogICAgICAgIHZhciBwb3B1cF8zZTQ1YTBkMTVhMWE0Y2Q4OTUyZGQ5MDYyZWM4N2VhYSA9IEwucG9wdXAoeyJtYXhXaWR0aCI6ICIxMDAlIn0pOwoKICAgICAgICAKICAgICAgICAgICAgdmFyIGh0bWxfOGZlZWZjOGFlYjE3NDRlZGE4YWZmMTc1ODAxNzFiOGMgPSAkKGA8ZGl2IGlkPSJodG1sXzhmZWVmYzhhZWIxNzQ0ZWRhOGFmZjE3NTgwMTcxYjhjIiBzdHlsZT0id2lkdGg6IDEwMC4wJTsgaGVpZ2h0OiAxMDAuMCU7Ij5FYXN0IFRvcm9udG88L2Rpdj5gKVswXTsKICAgICAgICAgICAgcG9wdXBfM2U0NWEwZDE1YTFhNGNkODk1MmRkOTA2MmVjODdlYWEuc2V0Q29udGVudChodG1sXzhmZWVmYzhhZWIxNzQ0ZWRhOGFmZjE3NTgwMTcxYjhjKTsKICAgICAgICAKCiAgICAgICAgY2lyY2xlX21hcmtlcl9lYjI0NzgyZTZlYmU0M2JjODQ5YjE0NGQ5YTM3MzI4MS5iaW5kUG9wdXAocG9wdXBfM2U0NWEwZDE1YTFhNGNkODk1MmRkOTA2MmVjODdlYWEpCiAgICAgICAgOwoKICAgICAgICAKICAgIAogICAgCiAgICAgICAgICAgIHZhciBjaXJjbGVfbWFya2VyXzJkNDMzNjBiNDhjMDQ4MWZhMWYzZTY5MmNiZjE4ZGEwID0gTC5jaXJjbGVNYXJrZXIoCiAgICAgICAgICAgICAgICBbNDMuNzI4MDIwNSwgLTc5LjM4ODc5MDFdLAogICAgICAgICAgICAgICAgeyJidWJibGluZ01vdXNlRXZlbnRzIjogdHJ1ZSwgImNvbG9yIjogImJsYWNrIiwgImRhc2hBcnJheSI6IG51bGwsICJkYXNoT2Zmc2V0IjogbnVsbCwgImZpbGwiOiB0cnVlLCAiZmlsbENvbG9yIjogImJsdWUiLCAiZmlsbE9wYWNpdHkiOiAwLjcsICJmaWxsUnVsZSI6ICJldmVub2RkIiwgImxpbmVDYXAiOiAicm91bmQiLCAibGluZUpvaW4iOiAicm91bmQiLCAib3BhY2l0eSI6IDEuMCwgInJhZGl1cyI6IDUsICJzdHJva2UiOiB0cnVlLCAid2VpZ2h0IjogM30KICAgICAgICAgICAgKS5hZGRUbyhtYXBfMGNlZjIyNmJiMjAwNDUzMGIwY2YyMTMzM2JjYjAwNGMpOwogICAgICAgIAogICAgCiAgICAgICAgdmFyIHBvcHVwXzA4Yzc3YzgwNzA3MDRlYzBhZWIzZTExZGFjMjRjNDUwID0gTC5wb3B1cCh7Im1heFdpZHRoIjogIjEwMCUifSk7CgogICAgICAgIAogICAgICAgICAgICB2YXIgaHRtbF83NTdlOTdlMjllNDM0YjM5YmEyZWFjYzA5OGEyMjI3MSA9ICQoYDxkaXYgaWQ9Imh0bWxfNzU3ZTk3ZTI5ZTQzNGIzOWJhMmVhY2MwOThhMjIyNzEiIHN0eWxlPSJ3aWR0aDogMTAwLjAlOyBoZWlnaHQ6IDEwMC4wJTsiPkNlbnRyYWwgVG9yb250bzwvZGl2PmApWzBdOwogICAgICAgICAgICBwb3B1cF8wOGM3N2M4MDcwNzA0ZWMwYWViM2UxMWRhYzI0YzQ1MC5zZXRDb250ZW50KGh0bWxfNzU3ZTk3ZTI5ZTQzNGIzOWJhMmVhY2MwOThhMjIyNzEpOwogICAgICAgIAoKICAgICAgICBjaXJjbGVfbWFya2VyXzJkNDMzNjBiNDhjMDQ4MWZhMWYzZTY5MmNiZjE4ZGEwLmJpbmRQb3B1cChwb3B1cF8wOGM3N2M4MDcwNzA0ZWMwYWViM2UxMWRhYzI0YzQ1MCkKICAgICAgICA7CgogICAgICAgIAogICAgCiAgICAKICAgICAgICAgICAgdmFyIGNpcmNsZV9tYXJrZXJfMThkNmViNDVhZjcwNGVlYmE3NzdhNDY0MTkwODk5NTggPSBMLmNpcmNsZU1hcmtlcigKICAgICAgICAgICAgICAgIFs0My43MTI3NTExLCAtNzkuMzkwMTk3NV0sCiAgICAgICAgICAgICAgICB7ImJ1YmJsaW5nTW91c2VFdmVudHMiOiB0cnVlLCAiY29sb3IiOiAiYmxhY2siLCAiZGFzaEFycmF5IjogbnVsbCwgImRhc2hPZmZzZXQiOiBudWxsLCAiZmlsbCI6IHRydWUsICJmaWxsQ29sb3IiOiAiYmx1ZSIsICJmaWxsT3BhY2l0eSI6IDAuNywgImZpbGxSdWxlIjogImV2ZW5vZGQiLCAibGluZUNhcCI6ICJyb3VuZCIsICJsaW5lSm9pbiI6ICJyb3VuZCIsICJvcGFjaXR5IjogMS4wLCAicmFkaXVzIjogNSwgInN0cm9rZSI6IHRydWUsICJ3ZWlnaHQiOiAzfQogICAgICAgICAgICApLmFkZFRvKG1hcF8wY2VmMjI2YmIyMDA0NTMwYjBjZjIxMzMzYmNiMDA0Yyk7CiAgICAgICAgCiAgICAKICAgICAgICB2YXIgcG9wdXBfNGZlNmU0YTBlZDg3NDk1NGIxMjQ4OTc5MmI0Mzk3MDIgPSBMLnBvcHVwKHsibWF4V2lkdGgiOiAiMTAwJSJ9KTsKCiAgICAgICAgCiAgICAgICAgICAgIHZhciBodG1sXzljMzQ2MTA0Y2JhYjQwNzI5MjY3ZmRiMmRmN2JkODk1ID0gJChgPGRpdiBpZD0iaHRtbF85YzM0NjEwNGNiYWI0MDcyOTI2N2ZkYjJkZjdiZDg5NSIgc3R5bGU9IndpZHRoOiAxMDAuMCU7IGhlaWdodDogMTAwLjAlOyI+Q2VudHJhbCBUb3JvbnRvPC9kaXY+YClbMF07CiAgICAgICAgICAgIHBvcHVwXzRmZTZlNGEwZWQ4NzQ5NTRiMTI0ODk3OTJiNDM5NzAyLnNldENvbnRlbnQoaHRtbF85YzM0NjEwNGNiYWI0MDcyOTI2N2ZkYjJkZjdiZDg5NSk7CiAgICAgICAgCgogICAgICAgIGNpcmNsZV9tYXJrZXJfMThkNmViNDVhZjcwNGVlYmE3NzdhNDY0MTkwODk5NTguYmluZFBvcHVwKHBvcHVwXzRmZTZlNGEwZWQ4NzQ5NTRiMTI0ODk3OTJiNDM5NzAyKQogICAgICAgIDsKCiAgICAgICAgCiAgICAKICAgIAogICAgICAgICAgICB2YXIgY2lyY2xlX21hcmtlcl9hM2JhYjhkMGI4ZjQ0OWVkOWVjMTZkMWZhYWZiNTUzYSA9IEwuY2lyY2xlTWFya2VyKAogICAgICAgICAgICAgICAgWzQzLjcxNTM4MzQsIC03OS40MDU2Nzg0MDAwMDAwMV0sCiAgICAgICAgICAgICAgICB7ImJ1YmJsaW5nTW91c2VFdmVudHMiOiB0cnVlLCAiY29sb3IiOiAiYmxhY2siLCAiZGFzaEFycmF5IjogbnVsbCwgImRhc2hPZmZzZXQiOiBudWxsLCAiZmlsbCI6IHRydWUsICJmaWxsQ29sb3IiOiAiYmx1ZSIsICJmaWxsT3BhY2l0eSI6IDAuNywgImZpbGxSdWxlIjogImV2ZW5vZGQiLCAibGluZUNhcCI6ICJyb3VuZCIsICJsaW5lSm9pbiI6ICJyb3VuZCIsICJvcGFjaXR5IjogMS4wLCAicmFkaXVzIjogNSwgInN0cm9rZSI6IHRydWUsICJ3ZWlnaHQiOiAzfQogICAgICAgICAgICApLmFkZFRvKG1hcF8wY2VmMjI2YmIyMDA0NTMwYjBjZjIxMzMzYmNiMDA0Yyk7CiAgICAgICAgCiAgICAKICAgICAgICB2YXIgcG9wdXBfZDhiOGJiZTA2ODdhNDAyMjhiNjg5ZWY4MWNlYTZjZGEgPSBMLnBvcHVwKHsibWF4V2lkdGgiOiAiMTAwJSJ9KTsKCiAgICAgICAgCiAgICAgICAgICAgIHZhciBodG1sXzk4NTY2MzhiY2NkMTRlOTU4NjQ1YTEyNGQyOTA3MDBkID0gJChgPGRpdiBpZD0iaHRtbF85ODU2NjM4YmNjZDE0ZTk1ODY0NWExMjRkMjkwNzAwZCIgc3R5bGU9IndpZHRoOiAxMDAuMCU7IGhlaWdodDogMTAwLjAlOyI+Q2VudHJhbCBUb3JvbnRvPC9kaXY+YClbMF07CiAgICAgICAgICAgIHBvcHVwX2Q4YjhiYmUwNjg3YTQwMjI4YjY4OWVmODFjZWE2Y2RhLnNldENvbnRlbnQoaHRtbF85ODU2NjM4YmNjZDE0ZTk1ODY0NWExMjRkMjkwNzAwZCk7CiAgICAgICAgCgogICAgICAgIGNpcmNsZV9tYXJrZXJfYTNiYWI4ZDBiOGY0NDllZDllYzE2ZDFmYWFmYjU1M2EuYmluZFBvcHVwKHBvcHVwX2Q4YjhiYmUwNjg3YTQwMjI4YjY4OWVmODFjZWE2Y2RhKQogICAgICAgIDsKCiAgICAgICAgCiAgICAKICAgIAogICAgICAgICAgICB2YXIgY2lyY2xlX21hcmtlcl84MjZhOTcwZTZmMDA0NGY3OWMxYjNlODhjNDJjMTA2MyA9IEwuY2lyY2xlTWFya2VyKAogICAgICAgICAgICAgICAgWzQzLjcwNDMyNDQsIC03OS4zODg3OTAxXSwKICAgICAgICAgICAgICAgIHsiYnViYmxpbmdNb3VzZUV2ZW50cyI6IHRydWUsICJjb2xvciI6ICJibGFjayIsICJkYXNoQXJyYXkiOiBudWxsLCAiZGFzaE9mZnNldCI6IG51bGwsICJmaWxsIjogdHJ1ZSwgImZpbGxDb2xvciI6ICJibHVlIiwgImZpbGxPcGFjaXR5IjogMC43LCAiZmlsbFJ1bGUiOiAiZXZlbm9kZCIsICJsaW5lQ2FwIjogInJvdW5kIiwgImxpbmVKb2luIjogInJvdW5kIiwgIm9wYWNpdHkiOiAxLjAsICJyYWRpdXMiOiA1LCAic3Ryb2tlIjogdHJ1ZSwgIndlaWdodCI6IDN9CiAgICAgICAgICAgICkuYWRkVG8obWFwXzBjZWYyMjZiYjIwMDQ1MzBiMGNmMjEzMzNiY2IwMDRjKTsKICAgICAgICAKICAgIAogICAgICAgIHZhciBwb3B1cF8wMTM2ZWNkYmMwMzA0NmM3OTk2ODZlOTJhZWE5NmI5ZCA9IEwucG9wdXAoeyJtYXhXaWR0aCI6ICIxMDAlIn0pOwoKICAgICAgICAKICAgICAgICAgICAgdmFyIGh0bWxfOTg5Yjk1YzRmN2MzNDk3ZDg1YmFlZGYyNTc2NThiZWUgPSAkKGA8ZGl2IGlkPSJodG1sXzk4OWI5NWM0ZjdjMzQ5N2Q4NWJhZWRmMjU3NjU4YmVlIiBzdHlsZT0id2lkdGg6IDEwMC4wJTsgaGVpZ2h0OiAxMDAuMCU7Ij5DZW50cmFsIFRvcm9udG88L2Rpdj5gKVswXTsKICAgICAgICAgICAgcG9wdXBfMDEzNmVjZGJjMDMwNDZjNzk5Njg2ZTkyYWVhOTZiOWQuc2V0Q29udGVudChodG1sXzk4OWI5NWM0ZjdjMzQ5N2Q4NWJhZWRmMjU3NjU4YmVlKTsKICAgICAgICAKCiAgICAgICAgY2lyY2xlX21hcmtlcl84MjZhOTcwZTZmMDA0NGY3OWMxYjNlODhjNDJjMTA2My5iaW5kUG9wdXAocG9wdXBfMDEzNmVjZGJjMDMwNDZjNzk5Njg2ZTkyYWVhOTZiOWQpCiAgICAgICAgOwoKICAgICAgICAKICAgIAogICAgCiAgICAgICAgICAgIHZhciBjaXJjbGVfbWFya2VyXzljNTcxZGUwMDBiYjQzNWRhZmVjYTUzZDQwOTg2ZTVhID0gTC5jaXJjbGVNYXJrZXIoCiAgICAgICAgICAgICAgICBbNDMuNjg5NTc0MywgLTc5LjM4MzE1OTkwMDAwMDAxXSwKICAgICAgICAgICAgICAgIHsiYnViYmxpbmdNb3VzZUV2ZW50cyI6IHRydWUsICJjb2xvciI6ICJibGFjayIsICJkYXNoQXJyYXkiOiBudWxsLCAiZGFzaE9mZnNldCI6IG51bGwsICJmaWxsIjogdHJ1ZSwgImZpbGxDb2xvciI6ICJibHVlIiwgImZpbGxPcGFjaXR5IjogMC43LCAiZmlsbFJ1bGUiOiAiZXZlbm9kZCIsICJsaW5lQ2FwIjogInJvdW5kIiwgImxpbmVKb2luIjogInJvdW5kIiwgIm9wYWNpdHkiOiAxLjAsICJyYWRpdXMiOiA1LCAic3Ryb2tlIjogdHJ1ZSwgIndlaWdodCI6IDN9CiAgICAgICAgICAgICkuYWRkVG8obWFwXzBjZWYyMjZiYjIwMDQ1MzBiMGNmMjEzMzNiY2IwMDRjKTsKICAgICAgICAKICAgIAogICAgICAgIHZhciBwb3B1cF9hZjY3ZjM3OTUxMWE0MzI3YmQ5Njk1ZjljYWY3MTJiZSA9IEwucG9wdXAoeyJtYXhXaWR0aCI6ICIxMDAlIn0pOwoKICAgICAgICAKICAgICAgICAgICAgdmFyIGh0bWxfYTQyM2Y2MWExNjk2NGQ3NWI0ZDFmMzQwZTljMjEzODYgPSAkKGA8ZGl2IGlkPSJodG1sX2E0MjNmNjFhMTY5NjRkNzViNGQxZjM0MGU5YzIxMzg2IiBzdHlsZT0id2lkdGg6IDEwMC4wJTsgaGVpZ2h0OiAxMDAuMCU7Ij5DZW50cmFsIFRvcm9udG88L2Rpdj5gKVswXTsKICAgICAgICAgICAgcG9wdXBfYWY2N2YzNzk1MTFhNDMyN2JkOTY5NWY5Y2FmNzEyYmUuc2V0Q29udGVudChodG1sX2E0MjNmNjFhMTY5NjRkNzViNGQxZjM0MGU5YzIxMzg2KTsKICAgICAgICAKCiAgICAgICAgY2lyY2xlX21hcmtlcl85YzU3MWRlMDAwYmI0MzVkYWZlY2E1M2Q0MDk4NmU1YS5iaW5kUG9wdXAocG9wdXBfYWY2N2YzNzk1MTFhNDMyN2JkOTY5NWY5Y2FmNzEyYmUpCiAgICAgICAgOwoKICAgICAgICAKICAgIAogICAgCiAgICAgICAgICAgIHZhciBjaXJjbGVfbWFya2VyXzQxZTk3Nzk0NTliMTQwOTk4OGZmZjVkMzk0YmU0MDRmID0gTC5jaXJjbGVNYXJrZXIoCiAgICAgICAgICAgICAgICBbNDMuNjg2NDEyMjk5OTk5OTksIC03OS40MDAwNDkzXSwKICAgICAgICAgICAgICAgIHsiYnViYmxpbmdNb3VzZUV2ZW50cyI6IHRydWUsICJjb2xvciI6ICJibGFjayIsICJkYXNoQXJyYXkiOiBudWxsLCAiZGFzaE9mZnNldCI6IG51bGwsICJmaWxsIjogdHJ1ZSwgImZpbGxDb2xvciI6ICJibHVlIiwgImZpbGxPcGFjaXR5IjogMC43LCAiZmlsbFJ1bGUiOiAiZXZlbm9kZCIsICJsaW5lQ2FwIjogInJvdW5kIiwgImxpbmVKb2luIjogInJvdW5kIiwgIm9wYWNpdHkiOiAxLjAsICJyYWRpdXMiOiA1LCAic3Ryb2tlIjogdHJ1ZSwgIndlaWdodCI6IDN9CiAgICAgICAgICAgICkuYWRkVG8obWFwXzBjZWYyMjZiYjIwMDQ1MzBiMGNmMjEzMzNiY2IwMDRjKTsKICAgICAgICAKICAgIAogICAgICAgIHZhciBwb3B1cF8xM2FiZDIzNmRkZTY0N2UwYTgxMzJmNGRlODQ4MTNhYSA9IEwucG9wdXAoeyJtYXhXaWR0aCI6ICIxMDAlIn0pOwoKICAgICAgICAKICAgICAgICAgICAgdmFyIGh0bWxfOGI0YTYwZTVhYTdkNDBhYWEzZjlhNDE5NTM2YTY1YTYgPSAkKGA8ZGl2IGlkPSJodG1sXzhiNGE2MGU1YWE3ZDQwYWFhM2Y5YTQxOTUzNmE2NWE2IiBzdHlsZT0id2lkdGg6IDEwMC4wJTsgaGVpZ2h0OiAxMDAuMCU7Ij5DZW50cmFsIFRvcm9udG88L2Rpdj5gKVswXTsKICAgICAgICAgICAgcG9wdXBfMTNhYmQyMzZkZGU2NDdlMGE4MTMyZjRkZTg0ODEzYWEuc2V0Q29udGVudChodG1sXzhiNGE2MGU1YWE3ZDQwYWFhM2Y5YTQxOTUzNmE2NWE2KTsKICAgICAgICAKCiAgICAgICAgY2lyY2xlX21hcmtlcl80MWU5Nzc5NDU5YjE0MDk5ODhmZmY1ZDM5NGJlNDA0Zi5iaW5kUG9wdXAocG9wdXBfMTNhYmQyMzZkZGU2NDdlMGE4MTMyZjRkZTg0ODEzYWEpCiAgICAgICAgOwoKICAgICAgICAKICAgIAogICAgCiAgICAgICAgICAgIHZhciBjaXJjbGVfbWFya2VyXzk4NTYzNWRjZTFlZDRhNDE4NjZiYzZhNjZlNTljOGNiID0gTC5jaXJjbGVNYXJrZXIoCiAgICAgICAgICAgICAgICBbNDMuNjc5NTYyNiwgLTc5LjM3NzUyOTQwMDAwMDAxXSwKICAgICAgICAgICAgICAgIHsiYnViYmxpbmdNb3VzZUV2ZW50cyI6IHRydWUsICJjb2xvciI6ICJibGFjayIsICJkYXNoQXJyYXkiOiBudWxsLCAiZGFzaE9mZnNldCI6IG51bGwsICJmaWxsIjogdHJ1ZSwgImZpbGxDb2xvciI6ICJ5ZWxsb3ciLCAiZmlsbE9wYWNpdHkiOiAwLjcsICJmaWxsUnVsZSI6ICJldmVub2RkIiwgImxpbmVDYXAiOiAicm91bmQiLCAibGluZUpvaW4iOiAicm91bmQiLCAib3BhY2l0eSI6IDEuMCwgInJhZGl1cyI6IDUsICJzdHJva2UiOiB0cnVlLCAid2VpZ2h0IjogM30KICAgICAgICAgICAgKS5hZGRUbyhtYXBfMGNlZjIyNmJiMjAwNDUzMGIwY2YyMTMzM2JjYjAwNGMpOwogICAgICAgIAogICAgCiAgICAgICAgdmFyIHBvcHVwXzBjY2ZjNzIzNzg0MTQ4Y2VhYjFiN2VhMjk2ODUxNGI1ID0gTC5wb3B1cCh7Im1heFdpZHRoIjogIjEwMCUifSk7CgogICAgICAgIAogICAgICAgICAgICB2YXIgaHRtbF9jNjQ1ZmFmYjViZjE0ZGZlOTA4ZTMwZDI3MjVhZDRkZiA9ICQoYDxkaXYgaWQ9Imh0bWxfYzY0NWZhZmI1YmYxNGRmZTkwOGUzMGQyNzI1YWQ0ZGYiIHN0eWxlPSJ3aWR0aDogMTAwLjAlOyBoZWlnaHQ6IDEwMC4wJTsiPkRvd250b3duIFRvcm9udG88L2Rpdj5gKVswXTsKICAgICAgICAgICAgcG9wdXBfMGNjZmM3MjM3ODQxNDhjZWFiMWI3ZWEyOTY4NTE0YjUuc2V0Q29udGVudChodG1sX2M2NDVmYWZiNWJmMTRkZmU5MDhlMzBkMjcyNWFkNGRmKTsKICAgICAgICAKCiAgICAgICAgY2lyY2xlX21hcmtlcl85ODU2MzVkY2UxZWQ0YTQxODY2YmM2YTY2ZTU5YzhjYi5iaW5kUG9wdXAocG9wdXBfMGNjZmM3MjM3ODQxNDhjZWFiMWI3ZWEyOTY4NTE0YjUpCiAgICAgICAgOwoKICAgICAgICAKICAgIAogICAgCiAgICAgICAgICAgIHZhciBjaXJjbGVfbWFya2VyXzI0OWZjOWQwYzhjYjQ5ODk4Y2RjZmZkYzJmNDUzNjE5ID0gTC5jaXJjbGVNYXJrZXIoCiAgICAgICAgICAgICAgICBbNDMuNjY3OTY3LCAtNzkuMzY3Njc1M10sCiAgICAgICAgICAgICAgICB7ImJ1YmJsaW5nTW91c2VFdmVudHMiOiB0cnVlLCAiY29sb3IiOiAiYmxhY2siLCAiZGFzaEFycmF5IjogbnVsbCwgImRhc2hPZmZzZXQiOiBudWxsLCAiZmlsbCI6IHRydWUsICJmaWxsQ29sb3IiOiAieWVsbG93IiwgImZpbGxPcGFjaXR5IjogMC43LCAiZmlsbFJ1bGUiOiAiZXZlbm9kZCIsICJsaW5lQ2FwIjogInJvdW5kIiwgImxpbmVKb2luIjogInJvdW5kIiwgIm9wYWNpdHkiOiAxLjAsICJyYWRpdXMiOiA1LCAic3Ryb2tlIjogdHJ1ZSwgIndlaWdodCI6IDN9CiAgICAgICAgICAgICkuYWRkVG8obWFwXzBjZWYyMjZiYjIwMDQ1MzBiMGNmMjEzMzNiY2IwMDRjKTsKICAgICAgICAKICAgIAogICAgICAgIHZhciBwb3B1cF83M2I3NDM0YzNiODI0OWRlYWUzYjk3MjRhYzU3MWFmYiA9IEwucG9wdXAoeyJtYXhXaWR0aCI6ICIxMDAlIn0pOwoKICAgICAgICAKICAgICAgICAgICAgdmFyIGh0bWxfMTk1M2YxODBhYTYzNDcwMDhiOTdlYjQ3NzQxNWZkMmYgPSAkKGA8ZGl2IGlkPSJodG1sXzE5NTNmMTgwYWE2MzQ3MDA4Yjk3ZWI0Nzc0MTVmZDJmIiBzdHlsZT0id2lkdGg6IDEwMC4wJTsgaGVpZ2h0OiAxMDAuMCU7Ij5Eb3dudG93biBUb3JvbnRvPC9kaXY+YClbMF07CiAgICAgICAgICAgIHBvcHVwXzczYjc0MzRjM2I4MjQ5ZGVhZTNiOTcyNGFjNTcxYWZiLnNldENvbnRlbnQoaHRtbF8xOTUzZjE4MGFhNjM0NzAwOGI5N2ViNDc3NDE1ZmQyZik7CiAgICAgICAgCgogICAgICAgIGNpcmNsZV9tYXJrZXJfMjQ5ZmM5ZDBjOGNiNDk4OThjZGNmZmRjMmY0NTM2MTkuYmluZFBvcHVwKHBvcHVwXzczYjc0MzRjM2I4MjQ5ZGVhZTNiOTcyNGFjNTcxYWZiKQogICAgICAgIDsKCiAgICAgICAgCiAgICAKICAgIAogICAgICAgICAgICB2YXIgY2lyY2xlX21hcmtlcl9kM2UzYjQyODZiM2U0MDAxOGNjODhhNTdkZWM5ZTk3ZiA9IEwuY2lyY2xlTWFya2VyKAogICAgICAgICAgICAgICAgWzQzLjY2NTg1OTksIC03OS4zODMxNTk5MDAwMDAwMV0sCiAgICAgICAgICAgICAgICB7ImJ1YmJsaW5nTW91c2VFdmVudHMiOiB0cnVlLCAiY29sb3IiOiAiYmxhY2siLCAiZGFzaEFycmF5IjogbnVsbCwgImRhc2hPZmZzZXQiOiBudWxsLCAiZmlsbCI6IHRydWUsICJmaWxsQ29sb3IiOiAieWVsbG93IiwgImZpbGxPcGFjaXR5IjogMC43LCAiZmlsbFJ1bGUiOiAiZXZlbm9kZCIsICJsaW5lQ2FwIjogInJvdW5kIiwgImxpbmVKb2luIjogInJvdW5kIiwgIm9wYWNpdHkiOiAxLjAsICJyYWRpdXMiOiA1LCAic3Ryb2tlIjogdHJ1ZSwgIndlaWdodCI6IDN9CiAgICAgICAgICAgICkuYWRkVG8obWFwXzBjZWYyMjZiYjIwMDQ1MzBiMGNmMjEzMzNiY2IwMDRjKTsKICAgICAgICAKICAgIAogICAgICAgIHZhciBwb3B1cF9hMDQ5YTk0ODZiYzM0YWI5YmE1M2JkOGIzODBlNGQwNCA9IEwucG9wdXAoeyJtYXhXaWR0aCI6ICIxMDAlIn0pOwoKICAgICAgICAKICAgICAgICAgICAgdmFyIGh0bWxfNjY3MmZhYTIxNGIyNGI5Y2FjMGUxMWExOGZhN2FmMTQgPSAkKGA8ZGl2IGlkPSJodG1sXzY2NzJmYWEyMTRiMjRiOWNhYzBlMTFhMThmYTdhZjE0IiBzdHlsZT0id2lkdGg6IDEwMC4wJTsgaGVpZ2h0OiAxMDAuMCU7Ij5Eb3dudG93biBUb3JvbnRvPC9kaXY+YClbMF07CiAgICAgICAgICAgIHBvcHVwX2EwNDlhOTQ4NmJjMzRhYjliYTUzYmQ4YjM4MGU0ZDA0LnNldENvbnRlbnQoaHRtbF82NjcyZmFhMjE0YjI0YjljYWMwZTExYTE4ZmE3YWYxNCk7CiAgICAgICAgCgogICAgICAgIGNpcmNsZV9tYXJrZXJfZDNlM2I0Mjg2YjNlNDAwMThjYzg4YTU3ZGVjOWU5N2YuYmluZFBvcHVwKHBvcHVwX2EwNDlhOTQ4NmJjMzRhYjliYTUzYmQ4YjM4MGU0ZDA0KQogICAgICAgIDsKCiAgICAgICAgCiAgICAKICAgIAogICAgICAgICAgICB2YXIgY2lyY2xlX21hcmtlcl9mNDBiM2M1ODliNmM0Yzk1ODE1MzFjNGFhMjNjMTY3OCA9IEwuY2lyY2xlTWFya2VyKAogICAgICAgICAgICAgICAgWzQzLjY1NDI1OTksIC03OS4zNjA2MzU5XSwKICAgICAgICAgICAgICAgIHsiYnViYmxpbmdNb3VzZUV2ZW50cyI6IHRydWUsICJjb2xvciI6ICJibGFjayIsICJkYXNoQXJyYXkiOiBudWxsLCAiZGFzaE9mZnNldCI6IG51bGwsICJmaWxsIjogdHJ1ZSwgImZpbGxDb2xvciI6ICJ5ZWxsb3ciLCAiZmlsbE9wYWNpdHkiOiAwLjcsICJmaWxsUnVsZSI6ICJldmVub2RkIiwgImxpbmVDYXAiOiAicm91bmQiLCAibGluZUpvaW4iOiAicm91bmQiLCAib3BhY2l0eSI6IDEuMCwgInJhZGl1cyI6IDUsICJzdHJva2UiOiB0cnVlLCAid2VpZ2h0IjogM30KICAgICAgICAgICAgKS5hZGRUbyhtYXBfMGNlZjIyNmJiMjAwNDUzMGIwY2YyMTMzM2JjYjAwNGMpOwogICAgICAgIAogICAgCiAgICAgICAgdmFyIHBvcHVwXzAwYmFmODk1MGRjMjQxNjY4NGMwOTllYmEyYTM0NDZmID0gTC5wb3B1cCh7Im1heFdpZHRoIjogIjEwMCUifSk7CgogICAgICAgIAogICAgICAgICAgICB2YXIgaHRtbF9jYzdkNmNmZTM4NDk0YWNhYjg5OTJhNWJiYTQ2NDBkYSA9ICQoYDxkaXYgaWQ9Imh0bWxfY2M3ZDZjZmUzODQ5NGFjYWI4OTkyYTViYmE0NjQwZGEiIHN0eWxlPSJ3aWR0aDogMTAwLjAlOyBoZWlnaHQ6IDEwMC4wJTsiPkRvd250b3duIFRvcm9udG88L2Rpdj5gKVswXTsKICAgICAgICAgICAgcG9wdXBfMDBiYWY4OTUwZGMyNDE2Njg0YzA5OWViYTJhMzQ0NmYuc2V0Q29udGVudChodG1sX2NjN2Q2Y2ZlMzg0OTRhY2FiODk5MmE1YmJhNDY0MGRhKTsKICAgICAgICAKCiAgICAgICAgY2lyY2xlX21hcmtlcl9mNDBiM2M1ODliNmM0Yzk1ODE1MzFjNGFhMjNjMTY3OC5iaW5kUG9wdXAocG9wdXBfMDBiYWY4OTUwZGMyNDE2Njg0YzA5OWViYTJhMzQ0NmYpCiAgICAgICAgOwoKICAgICAgICAKICAgIAogICAgCiAgICAgICAgICAgIHZhciBjaXJjbGVfbWFya2VyXzY5MTIwOTg0NzIyZDRkMzI5OGFkYzM2YTk5YzliY2NlID0gTC5jaXJjbGVNYXJrZXIoCiAgICAgICAgICAgICAgICBbNDMuNjU3MTYxOCwgLTc5LjM3ODkzNzA5OTk5OTk5XSwKICAgICAgICAgICAgICAgIHsiYnViYmxpbmdNb3VzZUV2ZW50cyI6IHRydWUsICJjb2xvciI6ICJibGFjayIsICJkYXNoQXJyYXkiOiBudWxsLCAiZGFzaE9mZnNldCI6IG51bGwsICJmaWxsIjogdHJ1ZSwgImZpbGxDb2xvciI6ICJ5ZWxsb3ciLCAiZmlsbE9wYWNpdHkiOiAwLjcsICJmaWxsUnVsZSI6ICJldmVub2RkIiwgImxpbmVDYXAiOiAicm91bmQiLCAibGluZUpvaW4iOiAicm91bmQiLCAib3BhY2l0eSI6IDEuMCwgInJhZGl1cyI6IDUsICJzdHJva2UiOiB0cnVlLCAid2VpZ2h0IjogM30KICAgICAgICAgICAgKS5hZGRUbyhtYXBfMGNlZjIyNmJiMjAwNDUzMGIwY2YyMTMzM2JjYjAwNGMpOwogICAgICAgIAogICAgCiAgICAgICAgdmFyIHBvcHVwXzJiZjZiMTA4NzFhODQ3MzliMTVhZjE3ZWQxMjBkMjA2ID0gTC5wb3B1cCh7Im1heFdpZHRoIjogIjEwMCUifSk7CgogICAgICAgIAogICAgICAgICAgICB2YXIgaHRtbF9jYzNlZDA5NTljYTI0MjcxOTI3YjljOGFkMWZjYjljYSA9ICQoYDxkaXYgaWQ9Imh0bWxfY2MzZWQwOTU5Y2EyNDI3MTkyN2I5YzhhZDFmY2I5Y2EiIHN0eWxlPSJ3aWR0aDogMTAwLjAlOyBoZWlnaHQ6IDEwMC4wJTsiPkRvd250b3duIFRvcm9udG88L2Rpdj5gKVswXTsKICAgICAgICAgICAgcG9wdXBfMmJmNmIxMDg3MWE4NDczOWIxNWFmMTdlZDEyMGQyMDYuc2V0Q29udGVudChodG1sX2NjM2VkMDk1OWNhMjQyNzE5MjdiOWM4YWQxZmNiOWNhKTsKICAgICAgICAKCiAgICAgICAgY2lyY2xlX21hcmtlcl82OTEyMDk4NDcyMmQ0ZDMyOThhZGMzNmE5OWM5YmNjZS5iaW5kUG9wdXAocG9wdXBfMmJmNmIxMDg3MWE4NDczOWIxNWFmMTdlZDEyMGQyMDYpCiAgICAgICAgOwoKICAgICAgICAKICAgIAogICAgCiAgICAgICAgICAgIHZhciBjaXJjbGVfbWFya2VyXzExNTVjOWY2NGI3ZjRlNjRiM2VlOGM1YmFkOWFlMzMzID0gTC5jaXJjbGVNYXJrZXIoCiAgICAgICAgICAgICAgICBbNDMuNjUxNDkzOSwgLTc5LjM3NTQxNzldLAogICAgICAgICAgICAgICAgeyJidWJibGluZ01vdXNlRXZlbnRzIjogdHJ1ZSwgImNvbG9yIjogImJsYWNrIiwgImRhc2hBcnJheSI6IG51bGwsICJkYXNoT2Zmc2V0IjogbnVsbCwgImZpbGwiOiB0cnVlLCAiZmlsbENvbG9yIjogInllbGxvdyIsICJmaWxsT3BhY2l0eSI6IDAuNywgImZpbGxSdWxlIjogImV2ZW5vZGQiLCAibGluZUNhcCI6ICJyb3VuZCIsICJsaW5lSm9pbiI6ICJyb3VuZCIsICJvcGFjaXR5IjogMS4wLCAicmFkaXVzIjogNSwgInN0cm9rZSI6IHRydWUsICJ3ZWlnaHQiOiAzfQogICAgICAgICAgICApLmFkZFRvKG1hcF8wY2VmMjI2YmIyMDA0NTMwYjBjZjIxMzMzYmNiMDA0Yyk7CiAgICAgICAgCiAgICAKICAgICAgICB2YXIgcG9wdXBfODhjYmJjZDkyMmE5NDkxYzk4N2ZiYmU1ZWRlY2U4MWIgPSBMLnBvcHVwKHsibWF4V2lkdGgiOiAiMTAwJSJ9KTsKCiAgICAgICAgCiAgICAgICAgICAgIHZhciBodG1sXzE0MGM1OTQxZDJkYTRkNTk5NTkwNDcyODhjZDFhZDM4ID0gJChgPGRpdiBpZD0iaHRtbF8xNDBjNTk0MWQyZGE0ZDU5OTU5MDQ3Mjg4Y2QxYWQzOCIgc3R5bGU9IndpZHRoOiAxMDAuMCU7IGhlaWdodDogMTAwLjAlOyI+RG93bnRvd24gVG9yb250bzwvZGl2PmApWzBdOwogICAgICAgICAgICBwb3B1cF84OGNiYmNkOTIyYTk0OTFjOTg3ZmJiZTVlZGVjZTgxYi5zZXRDb250ZW50KGh0bWxfMTQwYzU5NDFkMmRhNGQ1OTk1OTA0NzI4OGNkMWFkMzgpOwogICAgICAgIAoKICAgICAgICBjaXJjbGVfbWFya2VyXzExNTVjOWY2NGI3ZjRlNjRiM2VlOGM1YmFkOWFlMzMzLmJpbmRQb3B1cChwb3B1cF84OGNiYmNkOTIyYTk0OTFjOTg3ZmJiZTVlZGVjZTgxYikKICAgICAgICA7CgogICAgICAgIAogICAgCiAgICAKICAgICAgICAgICAgdmFyIGNpcmNsZV9tYXJrZXJfOTA5Mjg5MGNhY2RjNDMyMjkxYWM0MjFlZmIxMzM3NGEgPSBMLmNpcmNsZU1hcmtlcigKICAgICAgICAgICAgICAgIFs0My42NDQ3NzA3OTk5OTk5OTYsIC03OS4zNzMzMDY0XSwKICAgICAgICAgICAgICAgIHsiYnViYmxpbmdNb3VzZUV2ZW50cyI6IHRydWUsICJjb2xvciI6ICJibGFjayIsICJkYXNoQXJyYXkiOiBudWxsLCAiZGFzaE9mZnNldCI6IG51bGwsICJmaWxsIjogdHJ1ZSwgImZpbGxDb2xvciI6ICJ5ZWxsb3ciLCAiZmlsbE9wYWNpdHkiOiAwLjcsICJmaWxsUnVsZSI6ICJldmVub2RkIiwgImxpbmVDYXAiOiAicm91bmQiLCAibGluZUpvaW4iOiAicm91bmQiLCAib3BhY2l0eSI6IDEuMCwgInJhZGl1cyI6IDUsICJzdHJva2UiOiB0cnVlLCAid2VpZ2h0IjogM30KICAgICAgICAgICAgKS5hZGRUbyhtYXBfMGNlZjIyNmJiMjAwNDUzMGIwY2YyMTMzM2JjYjAwNGMpOwogICAgICAgIAogICAgCiAgICAgICAgdmFyIHBvcHVwXzk3MjVjM2Q0OGY1MzQyNWVhMGM5OWVkNjQ2NTljN2VkID0gTC5wb3B1cCh7Im1heFdpZHRoIjogIjEwMCUifSk7CgogICAgICAgIAogICAgICAgICAgICB2YXIgaHRtbF8zODFjMmMxNTQ2YTg0ZmY1OTg2ODM4MGIwN2E0YWU2OSA9ICQoYDxkaXYgaWQ9Imh0bWxfMzgxYzJjMTU0NmE4NGZmNTk4NjgzODBiMDdhNGFlNjkiIHN0eWxlPSJ3aWR0aDogMTAwLjAlOyBoZWlnaHQ6IDEwMC4wJTsiPkRvd250b3duIFRvcm9udG88L2Rpdj5gKVswXTsKICAgICAgICAgICAgcG9wdXBfOTcyNWMzZDQ4ZjUzNDI1ZWEwYzk5ZWQ2NDY1OWM3ZWQuc2V0Q29udGVudChodG1sXzM4MWMyYzE1NDZhODRmZjU5ODY4MzgwYjA3YTRhZTY5KTsKICAgICAgICAKCiAgICAgICAgY2lyY2xlX21hcmtlcl85MDkyODkwY2FjZGM0MzIyOTFhYzQyMWVmYjEzMzc0YS5iaW5kUG9wdXAocG9wdXBfOTcyNWMzZDQ4ZjUzNDI1ZWEwYzk5ZWQ2NDY1OWM3ZWQpCiAgICAgICAgOwoKICAgICAgICAKICAgIAogICAgCiAgICAgICAgICAgIHZhciBjaXJjbGVfbWFya2VyXzIwYjJkOGYyNzY5YzQ1ZjA4ODllMGI1NjM1OGQzYzMyID0gTC5jaXJjbGVNYXJrZXIoCiAgICAgICAgICAgICAgICBbNDMuNjU3OTUyNCwgLTc5LjM4NzM4MjZdLAogICAgICAgICAgICAgICAgeyJidWJibGluZ01vdXNlRXZlbnRzIjogdHJ1ZSwgImNvbG9yIjogImJsYWNrIiwgImRhc2hBcnJheSI6IG51bGwsICJkYXNoT2Zmc2V0IjogbnVsbCwgImZpbGwiOiB0cnVlLCAiZmlsbENvbG9yIjogInllbGxvdyIsICJmaWxsT3BhY2l0eSI6IDAuNywgImZpbGxSdWxlIjogImV2ZW5vZGQiLCAibGluZUNhcCI6ICJyb3VuZCIsICJsaW5lSm9pbiI6ICJyb3VuZCIsICJvcGFjaXR5IjogMS4wLCAicmFkaXVzIjogNSwgInN0cm9rZSI6IHRydWUsICJ3ZWlnaHQiOiAzfQogICAgICAgICAgICApLmFkZFRvKG1hcF8wY2VmMjI2YmIyMDA0NTMwYjBjZjIxMzMzYmNiMDA0Yyk7CiAgICAgICAgCiAgICAKICAgICAgICB2YXIgcG9wdXBfODg1MzBiN2Y5NzlkNDgwYmJhMGI1ZjlhZDAwYzdjNDggPSBMLnBvcHVwKHsibWF4V2lkdGgiOiAiMTAwJSJ9KTsKCiAgICAgICAgCiAgICAgICAgICAgIHZhciBodG1sX2UxNDAxYzJkNDRkYTRlNDY5NjE4ZGU4N2EzODI5MGYwID0gJChgPGRpdiBpZD0iaHRtbF9lMTQwMWMyZDQ0ZGE0ZTQ2OTYxOGRlODdhMzgyOTBmMCIgc3R5bGU9IndpZHRoOiAxMDAuMCU7IGhlaWdodDogMTAwLjAlOyI+RG93bnRvd24gVG9yb250bzwvZGl2PmApWzBdOwogICAgICAgICAgICBwb3B1cF84ODUzMGI3Zjk3OWQ0ODBiYmEwYjVmOWFkMDBjN2M0OC5zZXRDb250ZW50KGh0bWxfZTE0MDFjMmQ0NGRhNGU0Njk2MThkZTg3YTM4MjkwZjApOwogICAgICAgIAoKICAgICAgICBjaXJjbGVfbWFya2VyXzIwYjJkOGYyNzY5YzQ1ZjA4ODllMGI1NjM1OGQzYzMyLmJpbmRQb3B1cChwb3B1cF84ODUzMGI3Zjk3OWQ0ODBiYmEwYjVmOWFkMDBjN2M0OCkKICAgICAgICA7CgogICAgICAgIAogICAgCiAgICAKICAgICAgICAgICAgdmFyIGNpcmNsZV9tYXJrZXJfMjlkM2Q4MjVkOTg3NGJhMzk0YWEyZmI5YzZhZGY3NjggPSBMLmNpcmNsZU1hcmtlcigKICAgICAgICAgICAgICAgIFs0My42NTA1NzEyMDAwMDAwMSwgLTc5LjM4NDU2NzVdLAogICAgICAgICAgICAgICAgeyJidWJibGluZ01vdXNlRXZlbnRzIjogdHJ1ZSwgImNvbG9yIjogImJsYWNrIiwgImRhc2hBcnJheSI6IG51bGwsICJkYXNoT2Zmc2V0IjogbnVsbCwgImZpbGwiOiB0cnVlLCAiZmlsbENvbG9yIjogInllbGxvdyIsICJmaWxsT3BhY2l0eSI6IDAuNywgImZpbGxSdWxlIjogImV2ZW5vZGQiLCAibGluZUNhcCI6ICJyb3VuZCIsICJsaW5lSm9pbiI6ICJyb3VuZCIsICJvcGFjaXR5IjogMS4wLCAicmFkaXVzIjogNSwgInN0cm9rZSI6IHRydWUsICJ3ZWlnaHQiOiAzfQogICAgICAgICAgICApLmFkZFRvKG1hcF8wY2VmMjI2YmIyMDA0NTMwYjBjZjIxMzMzYmNiMDA0Yyk7CiAgICAgICAgCiAgICAKICAgICAgICB2YXIgcG9wdXBfNGIzZjU4OTUyNDYwNDE4ZTg1NzhmYThkYjAxZTU0MDEgPSBMLnBvcHVwKHsibWF4V2lkdGgiOiAiMTAwJSJ9KTsKCiAgICAgICAgCiAgICAgICAgICAgIHZhciBodG1sXzcwMzMwMzVjMWQyMTQxMTliMWM0ZTQ4M2E5YmRjYWU5ID0gJChgPGRpdiBpZD0iaHRtbF83MDMzMDM1YzFkMjE0MTE5YjFjNGU0ODNhOWJkY2FlOSIgc3R5bGU9IndpZHRoOiAxMDAuMCU7IGhlaWdodDogMTAwLjAlOyI+RG93bnRvd24gVG9yb250bzwvZGl2PmApWzBdOwogICAgICAgICAgICBwb3B1cF80YjNmNTg5NTI0NjA0MThlODU3OGZhOGRiMDFlNTQwMS5zZXRDb250ZW50KGh0bWxfNzAzMzAzNWMxZDIxNDExOWIxYzRlNDgzYTliZGNhZTkpOwogICAgICAgIAoKICAgICAgICBjaXJjbGVfbWFya2VyXzI5ZDNkODI1ZDk4NzRiYTM5NGFhMmZiOWM2YWRmNzY4LmJpbmRQb3B1cChwb3B1cF80YjNmNTg5NTI0NjA0MThlODU3OGZhOGRiMDFlNTQwMSkKICAgICAgICA7CgogICAgICAgIAogICAgCiAgICAKICAgICAgICAgICAgdmFyIGNpcmNsZV9tYXJrZXJfODU3NGZkYjk3YjkzNGE2MGI3ODNhZGRmODc0NjhhMjMgPSBMLmNpcmNsZU1hcmtlcigKICAgICAgICAgICAgICAgIFs0My42NDA4MTU3LCAtNzkuMzgxNzUyMjk5OTk5OTldLAogICAgICAgICAgICAgICAgeyJidWJibGluZ01vdXNlRXZlbnRzIjogdHJ1ZSwgImNvbG9yIjogImJsYWNrIiwgImRhc2hBcnJheSI6IG51bGwsICJkYXNoT2Zmc2V0IjogbnVsbCwgImZpbGwiOiB0cnVlLCAiZmlsbENvbG9yIjogInllbGxvdyIsICJmaWxsT3BhY2l0eSI6IDAuNywgImZpbGxSdWxlIjogImV2ZW5vZGQiLCAibGluZUNhcCI6ICJyb3VuZCIsICJsaW5lSm9pbiI6ICJyb3VuZCIsICJvcGFjaXR5IjogMS4wLCAicmFkaXVzIjogNSwgInN0cm9rZSI6IHRydWUsICJ3ZWlnaHQiOiAzfQogICAgICAgICAgICApLmFkZFRvKG1hcF8wY2VmMjI2YmIyMDA0NTMwYjBjZjIxMzMzYmNiMDA0Yyk7CiAgICAgICAgCiAgICAKICAgICAgICB2YXIgcG9wdXBfYzMzMGNhNTljZDViNGQ5YTg2Y2IxOTliN2IxODQ1YTkgPSBMLnBvcHVwKHsibWF4V2lkdGgiOiAiMTAwJSJ9KTsKCiAgICAgICAgCiAgICAgICAgICAgIHZhciBodG1sXzgxZWFiOTJiNjU4NTRjNDU5ZjkzZTg5MzkzYzAwMWQyID0gJChgPGRpdiBpZD0iaHRtbF84MWVhYjkyYjY1ODU0YzQ1OWY5M2U4OTM5M2MwMDFkMiIgc3R5bGU9IndpZHRoOiAxMDAuMCU7IGhlaWdodDogMTAwLjAlOyI+RG93bnRvd24gVG9yb250bzwvZGl2PmApWzBdOwogICAgICAgICAgICBwb3B1cF9jMzMwY2E1OWNkNWI0ZDlhODZjYjE5OWI3YjE4NDVhOS5zZXRDb250ZW50KGh0bWxfODFlYWI5MmI2NTg1NGM0NTlmOTNlODkzOTNjMDAxZDIpOwogICAgICAgIAoKICAgICAgICBjaXJjbGVfbWFya2VyXzg1NzRmZGI5N2I5MzRhNjBiNzgzYWRkZjg3NDY4YTIzLmJpbmRQb3B1cChwb3B1cF9jMzMwY2E1OWNkNWI0ZDlhODZjYjE5OWI3YjE4NDVhOSkKICAgICAgICA7CgogICAgICAgIAogICAgCiAgICAKICAgICAgICAgICAgdmFyIGNpcmNsZV9tYXJrZXJfNjU1MTJiZmU2NjA5NGI0MWFlNmYwOTRhN2U4NTc2MzIgPSBMLmNpcmNsZU1hcmtlcigKICAgICAgICAgICAgICAgIFs0My42NDcxNzY4LCAtNzkuMzgxNTc2NDAwMDAwMDFdLAogICAgICAgICAgICAgICAgeyJidWJibGluZ01vdXNlRXZlbnRzIjogdHJ1ZSwgImNvbG9yIjogImJsYWNrIiwgImRhc2hBcnJheSI6IG51bGwsICJkYXNoT2Zmc2V0IjogbnVsbCwgImZpbGwiOiB0cnVlLCAiZmlsbENvbG9yIjogInllbGxvdyIsICJmaWxsT3BhY2l0eSI6IDAuNywgImZpbGxSdWxlIjogImV2ZW5vZGQiLCAibGluZUNhcCI6ICJyb3VuZCIsICJsaW5lSm9pbiI6ICJyb3VuZCIsICJvcGFjaXR5IjogMS4wLCAicmFkaXVzIjogNSwgInN0cm9rZSI6IHRydWUsICJ3ZWlnaHQiOiAzfQogICAgICAgICAgICApLmFkZFRvKG1hcF8wY2VmMjI2YmIyMDA0NTMwYjBjZjIxMzMzYmNiMDA0Yyk7CiAgICAgICAgCiAgICAKICAgICAgICB2YXIgcG9wdXBfMjdlOWVmZmU4NDA1NDRhZGFiZjNmMjE4OGRkZjA5YTQgPSBMLnBvcHVwKHsibWF4V2lkdGgiOiAiMTAwJSJ9KTsKCiAgICAgICAgCiAgICAgICAgICAgIHZhciBodG1sXzQzODM5OWU3MjZiNzQ4NTJiZjZhOWMwZWRlODcxZjcwID0gJChgPGRpdiBpZD0iaHRtbF80MzgzOTllNzI2Yjc0ODUyYmY2YTljMGVkZTg3MWY3MCIgc3R5bGU9IndpZHRoOiAxMDAuMCU7IGhlaWdodDogMTAwLjAlOyI+RG93bnRvd24gVG9yb250bzwvZGl2PmApWzBdOwogICAgICAgICAgICBwb3B1cF8yN2U5ZWZmZTg0MDU0NGFkYWJmM2YyMTg4ZGRmMDlhNC5zZXRDb250ZW50KGh0bWxfNDM4Mzk5ZTcyNmI3NDg1MmJmNmE5YzBlZGU4NzFmNzApOwogICAgICAgIAoKICAgICAgICBjaXJjbGVfbWFya2VyXzY1NTEyYmZlNjYwOTRiNDFhZTZmMDk0YTdlODU3NjMyLmJpbmRQb3B1cChwb3B1cF8yN2U5ZWZmZTg0MDU0NGFkYWJmM2YyMTg4ZGRmMDlhNCkKICAgICAgICA7CgogICAgICAgIAogICAgCiAgICAKICAgICAgICAgICAgdmFyIGNpcmNsZV9tYXJrZXJfZGFmNDhiMGM2NTY2NGQ4Yzg4NmUyNjMzY2ViZDQyNjAgPSBMLmNpcmNsZU1hcmtlcigKICAgICAgICAgICAgICAgIFs0My42NDgxOTg1LCAtNzkuMzc5ODE2OTAwMDAwMDFdLAogICAgICAgICAgICAgICAgeyJidWJibGluZ01vdXNlRXZlbnRzIjogdHJ1ZSwgImNvbG9yIjogImJsYWNrIiwgImRhc2hBcnJheSI6IG51bGwsICJkYXNoT2Zmc2V0IjogbnVsbCwgImZpbGwiOiB0cnVlLCAiZmlsbENvbG9yIjogInllbGxvdyIsICJmaWxsT3BhY2l0eSI6IDAuNywgImZpbGxSdWxlIjogImV2ZW5vZGQiLCAibGluZUNhcCI6ICJyb3VuZCIsICJsaW5lSm9pbiI6ICJyb3VuZCIsICJvcGFjaXR5IjogMS4wLCAicmFkaXVzIjogNSwgInN0cm9rZSI6IHRydWUsICJ3ZWlnaHQiOiAzfQogICAgICAgICAgICApLmFkZFRvKG1hcF8wY2VmMjI2YmIyMDA0NTMwYjBjZjIxMzMzYmNiMDA0Yyk7CiAgICAgICAgCiAgICAKICAgICAgICB2YXIgcG9wdXBfZTUyNjFmYzBkYTkwNGIwOWE3ZTBmNTRjODFmYmFhNTYgPSBMLnBvcHVwKHsibWF4V2lkdGgiOiAiMTAwJSJ9KTsKCiAgICAgICAgCiAgICAgICAgICAgIHZhciBodG1sX2I1M2QzZWE1Y2IxNzQyOThhYTNkZmY4N2QzZDRjMmJlID0gJChgPGRpdiBpZD0iaHRtbF9iNTNkM2VhNWNiMTc0Mjk4YWEzZGZmODdkM2Q0YzJiZSIgc3R5bGU9IndpZHRoOiAxMDAuMCU7IGhlaWdodDogMTAwLjAlOyI+RG93bnRvd24gVG9yb250bzwvZGl2PmApWzBdOwogICAgICAgICAgICBwb3B1cF9lNTI2MWZjMGRhOTA0YjA5YTdlMGY1NGM4MWZiYWE1Ni5zZXRDb250ZW50KGh0bWxfYjUzZDNlYTVjYjE3NDI5OGFhM2RmZjg3ZDNkNGMyYmUpOwogICAgICAgIAoKICAgICAgICBjaXJjbGVfbWFya2VyX2RhZjQ4YjBjNjU2NjRkOGM4ODZlMjYzM2NlYmQ0MjYwLmJpbmRQb3B1cChwb3B1cF9lNTI2MWZjMGRhOTA0YjA5YTdlMGY1NGM4MWZiYWE1NikKICAgICAgICA7CgogICAgICAgIAogICAgCiAgICAKICAgICAgICAgICAgdmFyIGNpcmNsZV9tYXJrZXJfYzNjNTE3MTY1ZjFkNDk2NWI0MTg1MDc4ZTgzZjYyMGIgPSBMLmNpcmNsZU1hcmtlcigKICAgICAgICAgICAgICAgIFs0My43MTE2OTQ4LCAtNzkuNDE2OTM1NTk5OTk5OTldLAogICAgICAgICAgICAgICAgeyJidWJibGluZ01vdXNlRXZlbnRzIjogdHJ1ZSwgImNvbG9yIjogImJsYWNrIiwgImRhc2hBcnJheSI6IG51bGwsICJkYXNoT2Zmc2V0IjogbnVsbCwgImZpbGwiOiB0cnVlLCAiZmlsbENvbG9yIjogImJsdWUiLCAiZmlsbE9wYWNpdHkiOiAwLjcsICJmaWxsUnVsZSI6ICJldmVub2RkIiwgImxpbmVDYXAiOiAicm91bmQiLCAibGluZUpvaW4iOiAicm91bmQiLCAib3BhY2l0eSI6IDEuMCwgInJhZGl1cyI6IDUsICJzdHJva2UiOiB0cnVlLCAid2VpZ2h0IjogM30KICAgICAgICAgICAgKS5hZGRUbyhtYXBfMGNlZjIyNmJiMjAwNDUzMGIwY2YyMTMzM2JjYjAwNGMpOwogICAgICAgIAogICAgCiAgICAgICAgdmFyIHBvcHVwX2QzNTE1MWQwOWEyYTQwODRhNDI4OWJmNWJhNjRiYTY5ID0gTC5wb3B1cCh7Im1heFdpZHRoIjogIjEwMCUifSk7CgogICAgICAgIAogICAgICAgICAgICB2YXIgaHRtbF84N2FjYTUyZGZmN2Q0ZmUyYmQ0ODg0NDM5NDc4ZWYzMCA9ICQoYDxkaXYgaWQ9Imh0bWxfODdhY2E1MmRmZjdkNGZlMmJkNDg4NDQzOTQ3OGVmMzAiIHN0eWxlPSJ3aWR0aDogMTAwLjAlOyBoZWlnaHQ6IDEwMC4wJTsiPkNlbnRyYWwgVG9yb250bzwvZGl2PmApWzBdOwogICAgICAgICAgICBwb3B1cF9kMzUxNTFkMDlhMmE0MDg0YTQyODliZjViYTY0YmE2OS5zZXRDb250ZW50KGh0bWxfODdhY2E1MmRmZjdkNGZlMmJkNDg4NDQzOTQ3OGVmMzApOwogICAgICAgIAoKICAgICAgICBjaXJjbGVfbWFya2VyX2MzYzUxNzE2NWYxZDQ5NjViNDE4NTA3OGU4M2Y2MjBiLmJpbmRQb3B1cChwb3B1cF9kMzUxNTFkMDlhMmE0MDg0YTQyODliZjViYTY0YmE2OSkKICAgICAgICA7CgogICAgICAgIAogICAgCiAgICAKICAgICAgICAgICAgdmFyIGNpcmNsZV9tYXJrZXJfNDNmMDVkZmVjY2IyNDI4YjhiZWRlMjkyYmI3ODgyOGQgPSBMLmNpcmNsZU1hcmtlcigKICAgICAgICAgICAgICAgIFs0My42OTY5NDc2LCAtNzkuNDExMzA3MjAwMDAwMDFdLAogICAgICAgICAgICAgICAgeyJidWJibGluZ01vdXNlRXZlbnRzIjogdHJ1ZSwgImNvbG9yIjogImJsYWNrIiwgImRhc2hBcnJheSI6IG51bGwsICJkYXNoT2Zmc2V0IjogbnVsbCwgImZpbGwiOiB0cnVlLCAiZmlsbENvbG9yIjogImJsdWUiLCAiZmlsbE9wYWNpdHkiOiAwLjcsICJmaWxsUnVsZSI6ICJldmVub2RkIiwgImxpbmVDYXAiOiAicm91bmQiLCAibGluZUpvaW4iOiAicm91bmQiLCAib3BhY2l0eSI6IDEuMCwgInJhZGl1cyI6IDUsICJzdHJva2UiOiB0cnVlLCAid2VpZ2h0IjogM30KICAgICAgICAgICAgKS5hZGRUbyhtYXBfMGNlZjIyNmJiMjAwNDUzMGIwY2YyMTMzM2JjYjAwNGMpOwogICAgICAgIAogICAgCiAgICAgICAgdmFyIHBvcHVwXzQxZjM3NzZmODM4ZDRkNmI4MTJhYWMwNzU4ZGRmOGYwID0gTC5wb3B1cCh7Im1heFdpZHRoIjogIjEwMCUifSk7CgogICAgICAgIAogICAgICAgICAgICB2YXIgaHRtbF82NTZmNzgxYTc1ZGQ0MDRiODVhMDg0NWUzMzVhOTI4MCA9ICQoYDxkaXYgaWQ9Imh0bWxfNjU2Zjc4MWE3NWRkNDA0Yjg1YTA4NDVlMzM1YTkyODAiIHN0eWxlPSJ3aWR0aDogMTAwLjAlOyBoZWlnaHQ6IDEwMC4wJTsiPkNlbnRyYWwgVG9yb250bzwvZGl2PmApWzBdOwogICAgICAgICAgICBwb3B1cF80MWYzNzc2ZjgzOGQ0ZDZiODEyYWFjMDc1OGRkZjhmMC5zZXRDb250ZW50KGh0bWxfNjU2Zjc4MWE3NWRkNDA0Yjg1YTA4NDVlMzM1YTkyODApOwogICAgICAgIAoKICAgICAgICBjaXJjbGVfbWFya2VyXzQzZjA1ZGZlY2NiMjQyOGI4YmVkZTI5MmJiNzg4MjhkLmJpbmRQb3B1cChwb3B1cF80MWYzNzc2ZjgzOGQ0ZDZiODEyYWFjMDc1OGRkZjhmMCkKICAgICAgICA7CgogICAgICAgIAogICAgCiAgICAKICAgICAgICAgICAgdmFyIGNpcmNsZV9tYXJrZXJfMzkxYmNlZGY3ZTA2NGQyM2JjMGIwZTA4MWQ5NWJkZjYgPSBMLmNpcmNsZU1hcmtlcigKICAgICAgICAgICAgICAgIFs0My42NzI3MDk3LCAtNzkuNDA1Njc4NDAwMDAwMDFdLAogICAgICAgICAgICAgICAgeyJidWJibGluZ01vdXNlRXZlbnRzIjogdHJ1ZSwgImNvbG9yIjogImJsYWNrIiwgImRhc2hBcnJheSI6IG51bGwsICJkYXNoT2Zmc2V0IjogbnVsbCwgImZpbGwiOiB0cnVlLCAiZmlsbENvbG9yIjogInllbGxvdyIsICJmaWxsT3BhY2l0eSI6IDAuNywgImZpbGxSdWxlIjogImV2ZW5vZGQiLCAibGluZUNhcCI6ICJyb3VuZCIsICJsaW5lSm9pbiI6ICJyb3VuZCIsICJvcGFjaXR5IjogMS4wLCAicmFkaXVzIjogNSwgInN0cm9rZSI6IHRydWUsICJ3ZWlnaHQiOiAzfQogICAgICAgICAgICApLmFkZFRvKG1hcF8wY2VmMjI2YmIyMDA0NTMwYjBjZjIxMzMzYmNiMDA0Yyk7CiAgICAgICAgCiAgICAKICAgICAgICB2YXIgcG9wdXBfZTlkMzMyMjFhMTgwNDUyZjgwNmRkY2MyODI1OWNjMWYgPSBMLnBvcHVwKHsibWF4V2lkdGgiOiAiMTAwJSJ9KTsKCiAgICAgICAgCiAgICAgICAgICAgIHZhciBodG1sX2JkYTQxZGE3YTIwZjRhMTE5YTE1MWEyZThiMjFkMTU2ID0gJChgPGRpdiBpZD0iaHRtbF9iZGE0MWRhN2EyMGY0YTExOWExNTFhMmU4YjIxZDE1NiIgc3R5bGU9IndpZHRoOiAxMDAuMCU7IGhlaWdodDogMTAwLjAlOyI+Q2VudHJhbCBUb3JvbnRvPC9kaXY+YClbMF07CiAgICAgICAgICAgIHBvcHVwX2U5ZDMzMjIxYTE4MDQ1MmY4MDZkZGNjMjgyNTljYzFmLnNldENvbnRlbnQoaHRtbF9iZGE0MWRhN2EyMGY0YTExOWExNTFhMmU4YjIxZDE1Nik7CiAgICAgICAgCgogICAgICAgIGNpcmNsZV9tYXJrZXJfMzkxYmNlZGY3ZTA2NGQyM2JjMGIwZTA4MWQ5NWJkZjYuYmluZFBvcHVwKHBvcHVwX2U5ZDMzMjIxYTE4MDQ1MmY4MDZkZGNjMjgyNTljYzFmKQogICAgICAgIDsKCiAgICAgICAgCiAgICAKICAgIAogICAgICAgICAgICB2YXIgY2lyY2xlX21hcmtlcl9kOGIwZmFmZWE5OTA0MmI5OTdlOWQzZmJjZjgxMDYxOSA9IEwuY2lyY2xlTWFya2VyKAogICAgICAgICAgICAgICAgWzQzLjY2MjY5NTYsIC03OS40MDAwNDkzXSwKICAgICAgICAgICAgICAgIHsiYnViYmxpbmdNb3VzZUV2ZW50cyI6IHRydWUsICJjb2xvciI6ICJibGFjayIsICJkYXNoQXJyYXkiOiBudWxsLCAiZGFzaE9mZnNldCI6IG51bGwsICJmaWxsIjogdHJ1ZSwgImZpbGxDb2xvciI6ICJ5ZWxsb3ciLCAiZmlsbE9wYWNpdHkiOiAwLjcsICJmaWxsUnVsZSI6ICJldmVub2RkIiwgImxpbmVDYXAiOiAicm91bmQiLCAibGluZUpvaW4iOiAicm91bmQiLCAib3BhY2l0eSI6IDEuMCwgInJhZGl1cyI6IDUsICJzdHJva2UiOiB0cnVlLCAid2VpZ2h0IjogM30KICAgICAgICAgICAgKS5hZGRUbyhtYXBfMGNlZjIyNmJiMjAwNDUzMGIwY2YyMTMzM2JjYjAwNGMpOwogICAgICAgIAogICAgCiAgICAgICAgdmFyIHBvcHVwX2VlNWRkOWQxOTU2ZjRiNzFhNDI3NDg5YWE1MDIwZmNjID0gTC5wb3B1cCh7Im1heFdpZHRoIjogIjEwMCUifSk7CgogICAgICAgIAogICAgICAgICAgICB2YXIgaHRtbF9kMjE1NTU2MTZmZjU0MTQ3YjE0ZmU5Y2Y3ZThlN2QwZiA9ICQoYDxkaXYgaWQ9Imh0bWxfZDIxNTU1NjE2ZmY1NDE0N2IxNGZlOWNmN2U4ZTdkMGYiIHN0eWxlPSJ3aWR0aDogMTAwLjAlOyBoZWlnaHQ6IDEwMC4wJTsiPkRvd250b3duIFRvcm9udG88L2Rpdj5gKVswXTsKICAgICAgICAgICAgcG9wdXBfZWU1ZGQ5ZDE5NTZmNGI3MWE0Mjc0ODlhYTUwMjBmY2Muc2V0Q29udGVudChodG1sX2QyMTU1NTYxNmZmNTQxNDdiMTRmZTljZjdlOGU3ZDBmKTsKICAgICAgICAKCiAgICAgICAgY2lyY2xlX21hcmtlcl9kOGIwZmFmZWE5OTA0MmI5OTdlOWQzZmJjZjgxMDYxOS5iaW5kUG9wdXAocG9wdXBfZWU1ZGQ5ZDE5NTZmNGI3MWE0Mjc0ODlhYTUwMjBmY2MpCiAgICAgICAgOwoKICAgICAgICAKICAgIAogICAgCiAgICAgICAgICAgIHZhciBjaXJjbGVfbWFya2VyXzRmNDRmOGM0MzBjZjQyZGY4ODg1YmJhYzQ1ZDVhYWYzID0gTC5jaXJjbGVNYXJrZXIoCiAgICAgICAgICAgICAgICBbNDMuNjUzMjA1NywgLTc5LjQwMDA0OTNdLAogICAgICAgICAgICAgICAgeyJidWJibGluZ01vdXNlRXZlbnRzIjogdHJ1ZSwgImNvbG9yIjogImJsYWNrIiwgImRhc2hBcnJheSI6IG51bGwsICJkYXNoT2Zmc2V0IjogbnVsbCwgImZpbGwiOiB0cnVlLCAiZmlsbENvbG9yIjogInllbGxvdyIsICJmaWxsT3BhY2l0eSI6IDAuNywgImZpbGxSdWxlIjogImV2ZW5vZGQiLCAibGluZUNhcCI6ICJyb3VuZCIsICJsaW5lSm9pbiI6ICJyb3VuZCIsICJvcGFjaXR5IjogMS4wLCAicmFkaXVzIjogNSwgInN0cm9rZSI6IHRydWUsICJ3ZWlnaHQiOiAzfQogICAgICAgICAgICApLmFkZFRvKG1hcF8wY2VmMjI2YmIyMDA0NTMwYjBjZjIxMzMzYmNiMDA0Yyk7CiAgICAgICAgCiAgICAKICAgICAgICB2YXIgcG9wdXBfYWJiZmNhZTNlNWM2NGM3Mjk1ZjRhZTExZTk5NTg0NDIgPSBMLnBvcHVwKHsibWF4V2lkdGgiOiAiMTAwJSJ9KTsKCiAgICAgICAgCiAgICAgICAgICAgIHZhciBodG1sXzY1OGRiNzEwZTI5NjQ2NDI5NWQ4MTJmMmVmNGJiNTZhID0gJChgPGRpdiBpZD0iaHRtbF82NThkYjcxMGUyOTY0NjQyOTVkODEyZjJlZjRiYjU2YSIgc3R5bGU9IndpZHRoOiAxMDAuMCU7IGhlaWdodDogMTAwLjAlOyI+RG93bnRvd24gVG9yb250bzwvZGl2PmApWzBdOwogICAgICAgICAgICBwb3B1cF9hYmJmY2FlM2U1YzY0YzcyOTVmNGFlMTFlOTk1ODQ0Mi5zZXRDb250ZW50KGh0bWxfNjU4ZGI3MTBlMjk2NDY0Mjk1ZDgxMmYyZWY0YmI1NmEpOwogICAgICAgIAoKICAgICAgICBjaXJjbGVfbWFya2VyXzRmNDRmOGM0MzBjZjQyZGY4ODg1YmJhYzQ1ZDVhYWYzLmJpbmRQb3B1cChwb3B1cF9hYmJmY2FlM2U1YzY0YzcyOTVmNGFlMTFlOTk1ODQ0MikKICAgICAgICA7CgogICAgICAgIAogICAgCiAgICAKICAgICAgICAgICAgdmFyIGNpcmNsZV9tYXJrZXJfOGQ0NTRmZTRkNWEyNGRiYThlYTg1MGExNjAxZDEyZDYgPSBMLmNpcmNsZU1hcmtlcigKICAgICAgICAgICAgICAgIFs0My42Mjg5NDY3LCAtNzkuMzk0NDE5OV0sCiAgICAgICAgICAgICAgICB7ImJ1YmJsaW5nTW91c2VFdmVudHMiOiB0cnVlLCAiY29sb3IiOiAiYmxhY2siLCAiZGFzaEFycmF5IjogbnVsbCwgImRhc2hPZmZzZXQiOiBudWxsLCAiZmlsbCI6IHRydWUsICJmaWxsQ29sb3IiOiAieWVsbG93IiwgImZpbGxPcGFjaXR5IjogMC43LCAiZmlsbFJ1bGUiOiAiZXZlbm9kZCIsICJsaW5lQ2FwIjogInJvdW5kIiwgImxpbmVKb2luIjogInJvdW5kIiwgIm9wYWNpdHkiOiAxLjAsICJyYWRpdXMiOiA1LCAic3Ryb2tlIjogdHJ1ZSwgIndlaWdodCI6IDN9CiAgICAgICAgICAgICkuYWRkVG8obWFwXzBjZWYyMjZiYjIwMDQ1MzBiMGNmMjEzMzNiY2IwMDRjKTsKICAgICAgICAKICAgIAogICAgICAgIHZhciBwb3B1cF9mNGJkMTgzNjZkYTU0NzQ2YTg5MmQxNDk3YTczNzJkZSA9IEwucG9wdXAoeyJtYXhXaWR0aCI6ICIxMDAlIn0pOwoKICAgICAgICAKICAgICAgICAgICAgdmFyIGh0bWxfM2Q3MTQ2ZWU5Yjc0NDEwZWEyOTRjOTY5OTdiYjhjODkgPSAkKGA8ZGl2IGlkPSJodG1sXzNkNzE0NmVlOWI3NDQxMGVhMjk0Yzk2OTk3YmI4Yzg5IiBzdHlsZT0id2lkdGg6IDEwMC4wJTsgaGVpZ2h0OiAxMDAuMCU7Ij5Eb3dudG93biBUb3JvbnRvPC9kaXY+YClbMF07CiAgICAgICAgICAgIHBvcHVwX2Y0YmQxODM2NmRhNTQ3NDZhODkyZDE0OTdhNzM3MmRlLnNldENvbnRlbnQoaHRtbF8zZDcxNDZlZTliNzQ0MTBlYTI5NGM5Njk5N2JiOGM4OSk7CiAgICAgICAgCgogICAgICAgIGNpcmNsZV9tYXJrZXJfOGQ0NTRmZTRkNWEyNGRiYThlYTg1MGExNjAxZDEyZDYuYmluZFBvcHVwKHBvcHVwX2Y0YmQxODM2NmRhNTQ3NDZhODkyZDE0OTdhNzM3MmRlKQogICAgICAgIDsKCiAgICAgICAgCiAgICAKICAgIAogICAgICAgICAgICB2YXIgY2lyY2xlX21hcmtlcl85NDRkZTQ1NTA3ZjE0ZTU2YTVhMWI1MDI0OTllMGE1YiA9IEwuY2lyY2xlTWFya2VyKAogICAgICAgICAgICAgICAgWzQzLjY0NjQzNTIsIC03OS4zNzQ4NDU5OTk5OTk5OV0sCiAgICAgICAgICAgICAgICB7ImJ1YmJsaW5nTW91c2VFdmVudHMiOiB0cnVlLCAiY29sb3IiOiAiYmxhY2siLCAiZGFzaEFycmF5IjogbnVsbCwgImRhc2hPZmZzZXQiOiBudWxsLCAiZmlsbCI6IHRydWUsICJmaWxsQ29sb3IiOiAieWVsbG93IiwgImZpbGxPcGFjaXR5IjogMC43LCAiZmlsbFJ1bGUiOiAiZXZlbm9kZCIsICJsaW5lQ2FwIjogInJvdW5kIiwgImxpbmVKb2luIjogInJvdW5kIiwgIm9wYWNpdHkiOiAxLjAsICJyYWRpdXMiOiA1LCAic3Ryb2tlIjogdHJ1ZSwgIndlaWdodCI6IDN9CiAgICAgICAgICAgICkuYWRkVG8obWFwXzBjZWYyMjZiYjIwMDQ1MzBiMGNmMjEzMzNiY2IwMDRjKTsKICAgICAgICAKICAgIAogICAgICAgIHZhciBwb3B1cF9lN2RmMTE0YjVkZmI0MGZkOWFhYTQxY2ZjZDA0ZDBlMyA9IEwucG9wdXAoeyJtYXhXaWR0aCI6ICIxMDAlIn0pOwoKICAgICAgICAKICAgICAgICAgICAgdmFyIGh0bWxfODM4NTZkN2E3NDM0NDM0ODllYTk3N2Q3NmE4YjkyNzAgPSAkKGA8ZGl2IGlkPSJodG1sXzgzODU2ZDdhNzQzNDQzNDg5ZWE5NzdkNzZhOGI5MjcwIiBzdHlsZT0id2lkdGg6IDEwMC4wJTsgaGVpZ2h0OiAxMDAuMCU7Ij5Eb3dudG93biBUb3JvbnRvPC9kaXY+YClbMF07CiAgICAgICAgICAgIHBvcHVwX2U3ZGYxMTRiNWRmYjQwZmQ5YWFhNDFjZmNkMDRkMGUzLnNldENvbnRlbnQoaHRtbF84Mzg1NmQ3YTc0MzQ0MzQ4OWVhOTc3ZDc2YThiOTI3MCk7CiAgICAgICAgCgogICAgICAgIGNpcmNsZV9tYXJrZXJfOTQ0ZGU0NTUwN2YxNGU1NmE1YTFiNTAyNDk5ZTBhNWIuYmluZFBvcHVwKHBvcHVwX2U3ZGYxMTRiNWRmYjQwZmQ5YWFhNDFjZmNkMDRkMGUzKQogICAgICAgIDsKCiAgICAgICAgCiAgICAKICAgIAogICAgICAgICAgICB2YXIgY2lyY2xlX21hcmtlcl8wZWJlZjRmYTQxY2M0MDIzYTY0MDI3MjNlMjhiNmNmNSA9IEwuY2lyY2xlTWFya2VyKAogICAgICAgICAgICAgICAgWzQzLjY0ODQyOTIsIC03OS4zODIyODAyXSwKICAgICAgICAgICAgICAgIHsiYnViYmxpbmdNb3VzZUV2ZW50cyI6IHRydWUsICJjb2xvciI6ICJibGFjayIsICJkYXNoQXJyYXkiOiBudWxsLCAiZGFzaE9mZnNldCI6IG51bGwsICJmaWxsIjogdHJ1ZSwgImZpbGxDb2xvciI6ICJ5ZWxsb3ciLCAiZmlsbE9wYWNpdHkiOiAwLjcsICJmaWxsUnVsZSI6ICJldmVub2RkIiwgImxpbmVDYXAiOiAicm91bmQiLCAibGluZUpvaW4iOiAicm91bmQiLCAib3BhY2l0eSI6IDEuMCwgInJhZGl1cyI6IDUsICJzdHJva2UiOiB0cnVlLCAid2VpZ2h0IjogM30KICAgICAgICAgICAgKS5hZGRUbyhtYXBfMGNlZjIyNmJiMjAwNDUzMGIwY2YyMTMzM2JjYjAwNGMpOwogICAgICAgIAogICAgCiAgICAgICAgdmFyIHBvcHVwXzUyMGJhMTRmZWY2MjRkNzU4MTJjMDMxZmFlMzIzZjRkID0gTC5wb3B1cCh7Im1heFdpZHRoIjogIjEwMCUifSk7CgogICAgICAgIAogICAgICAgICAgICB2YXIgaHRtbF9lODhkNThhNTMyZWY0ZWY4YjBkYTRkNzNiZWExZTdlMSA9ICQoYDxkaXYgaWQ9Imh0bWxfZTg4ZDU4YTUzMmVmNGVmOGIwZGE0ZDczYmVhMWU3ZTEiIHN0eWxlPSJ3aWR0aDogMTAwLjAlOyBoZWlnaHQ6IDEwMC4wJTsiPkRvd250b3duIFRvcm9udG88L2Rpdj5gKVswXTsKICAgICAgICAgICAgcG9wdXBfNTIwYmExNGZlZjYyNGQ3NTgxMmMwMzFmYWUzMjNmNGQuc2V0Q29udGVudChodG1sX2U4OGQ1OGE1MzJlZjRlZjhiMGRhNGQ3M2JlYTFlN2UxKTsKICAgICAgICAKCiAgICAgICAgY2lyY2xlX21hcmtlcl8wZWJlZjRmYTQxY2M0MDIzYTY0MDI3MjNlMjhiNmNmNS5iaW5kUG9wdXAocG9wdXBfNTIwYmExNGZlZjYyNGQ3NTgxMmMwMzFmYWUzMjNmNGQpCiAgICAgICAgOwoKICAgICAgICAKICAgIAogICAgCiAgICAgICAgICAgIHZhciBjaXJjbGVfbWFya2VyXzBiZWYyNjhlODdmYjQxNmJhNmU5OTIyOThhNzhhNGFjID0gTC5jaXJjbGVNYXJrZXIoCiAgICAgICAgICAgICAgICBbNDMuNjY5NTQyLCAtNzkuNDIyNTYzN10sCiAgICAgICAgICAgICAgICB7ImJ1YmJsaW5nTW91c2VFdmVudHMiOiB0cnVlLCAiY29sb3IiOiAiYmxhY2siLCAiZGFzaEFycmF5IjogbnVsbCwgImRhc2hPZmZzZXQiOiBudWxsLCAiZmlsbCI6IHRydWUsICJmaWxsQ29sb3IiOiAicmVkIiwgImZpbGxPcGFjaXR5IjogMC43LCAiZmlsbFJ1bGUiOiAiZXZlbm9kZCIsICJsaW5lQ2FwIjogInJvdW5kIiwgImxpbmVKb2luIjogInJvdW5kIiwgIm9wYWNpdHkiOiAxLjAsICJyYWRpdXMiOiA1LCAic3Ryb2tlIjogdHJ1ZSwgIndlaWdodCI6IDN9CiAgICAgICAgICAgICkuYWRkVG8obWFwXzBjZWYyMjZiYjIwMDQ1MzBiMGNmMjEzMzNiY2IwMDRjKTsKICAgICAgICAKICAgIAogICAgICAgIHZhciBwb3B1cF9lNjUxOWViMjMxZjk0MWNlOWRmMjQxOGZhOWIxNTU1ZCA9IEwucG9wdXAoeyJtYXhXaWR0aCI6ICIxMDAlIn0pOwoKICAgICAgICAKICAgICAgICAgICAgdmFyIGh0bWxfNTJkYTU3OGEyOWU0NDRmYmFiNjFjNDI4YzcyZGZiNzQgPSAkKGA8ZGl2IGlkPSJodG1sXzUyZGE1NzhhMjllNDQ0ZmJhYjYxYzQyOGM3MmRmYjc0IiBzdHlsZT0id2lkdGg6IDEwMC4wJTsgaGVpZ2h0OiAxMDAuMCU7Ij5Eb3dudG93biBUb3JvbnRvPC9kaXY+YClbMF07CiAgICAgICAgICAgIHBvcHVwX2U2NTE5ZWIyMzFmOTQxY2U5ZGYyNDE4ZmE5YjE1NTVkLnNldENvbnRlbnQoaHRtbF81MmRhNTc4YTI5ZTQ0NGZiYWI2MWM0MjhjNzJkZmI3NCk7CiAgICAgICAgCgogICAgICAgIGNpcmNsZV9tYXJrZXJfMGJlZjI2OGU4N2ZiNDE2YmE2ZTk5MjI5OGE3OGE0YWMuYmluZFBvcHVwKHBvcHVwX2U2NTE5ZWIyMzFmOTQxY2U5ZGYyNDE4ZmE5YjE1NTVkKQogICAgICAgIDsKCiAgICAgICAgCiAgICAKICAgIAogICAgICAgICAgICB2YXIgY2lyY2xlX21hcmtlcl9hOGY0ZmU5OTY2MmM0OGJiOTFhNTFhYjU3YmIwNzg0MiA9IEwuY2lyY2xlTWFya2VyKAogICAgICAgICAgICAgICAgWzQzLjY2OTAwNTEwMDAwMDAxLCAtNzkuNDQyMjU5M10sCiAgICAgICAgICAgICAgICB7ImJ1YmJsaW5nTW91c2VFdmVudHMiOiB0cnVlLCAiY29sb3IiOiAiYmxhY2siLCAiZGFzaEFycmF5IjogbnVsbCwgImRhc2hPZmZzZXQiOiBudWxsLCAiZmlsbCI6IHRydWUsICJmaWxsQ29sb3IiOiAicmVkIiwgImZpbGxPcGFjaXR5IjogMC43LCAiZmlsbFJ1bGUiOiAiZXZlbm9kZCIsICJsaW5lQ2FwIjogInJvdW5kIiwgImxpbmVKb2luIjogInJvdW5kIiwgIm9wYWNpdHkiOiAxLjAsICJyYWRpdXMiOiA1LCAic3Ryb2tlIjogdHJ1ZSwgIndlaWdodCI6IDN9CiAgICAgICAgICAgICkuYWRkVG8obWFwXzBjZWYyMjZiYjIwMDQ1MzBiMGNmMjEzMzNiY2IwMDRjKTsKICAgICAgICAKICAgIAogICAgICAgIHZhciBwb3B1cF8wMjllMzE4YzlkZDE0Y2VmODY5YjIwOTU4YzI5MDAyMiA9IEwucG9wdXAoeyJtYXhXaWR0aCI6ICIxMDAlIn0pOwoKICAgICAgICAKICAgICAgICAgICAgdmFyIGh0bWxfNzJlOTIwZDJjMGJkNGQ0NWI2NDM2M2RlYzFiNjFiYTkgPSAkKGA8ZGl2IGlkPSJodG1sXzcyZTkyMGQyYzBiZDRkNDViNjQzNjNkZWMxYjYxYmE5IiBzdHlsZT0id2lkdGg6IDEwMC4wJTsgaGVpZ2h0OiAxMDAuMCU7Ij5XZXN0IFRvcm9udG88L2Rpdj5gKVswXTsKICAgICAgICAgICAgcG9wdXBfMDI5ZTMxOGM5ZGQxNGNlZjg2OWIyMDk1OGMyOTAwMjIuc2V0Q29udGVudChodG1sXzcyZTkyMGQyYzBiZDRkNDViNjQzNjNkZWMxYjYxYmE5KTsKICAgICAgICAKCiAgICAgICAgY2lyY2xlX21hcmtlcl9hOGY0ZmU5OTY2MmM0OGJiOTFhNTFhYjU3YmIwNzg0Mi5iaW5kUG9wdXAocG9wdXBfMDI5ZTMxOGM5ZGQxNGNlZjg2OWIyMDk1OGMyOTAwMjIpCiAgICAgICAgOwoKICAgICAgICAKICAgIAogICAgCiAgICAgICAgICAgIHZhciBjaXJjbGVfbWFya2VyX2FlNThlODNiNzI2ZTRjMTM5OTQ5MDA0NTc0MTZkNzkwID0gTC5jaXJjbGVNYXJrZXIoCiAgICAgICAgICAgICAgICBbNDMuNjQ3OTI2NzAwMDAwMDA2LCAtNzkuNDE5NzQ5N10sCiAgICAgICAgICAgICAgICB7ImJ1YmJsaW5nTW91c2VFdmVudHMiOiB0cnVlLCAiY29sb3IiOiAiYmxhY2siLCAiZGFzaEFycmF5IjogbnVsbCwgImRhc2hPZmZzZXQiOiBudWxsLCAiZmlsbCI6IHRydWUsICJmaWxsQ29sb3IiOiAicmVkIiwgImZpbGxPcGFjaXR5IjogMC43LCAiZmlsbFJ1bGUiOiAiZXZlbm9kZCIsICJsaW5lQ2FwIjogInJvdW5kIiwgImxpbmVKb2luIjogInJvdW5kIiwgIm9wYWNpdHkiOiAxLjAsICJyYWRpdXMiOiA1LCAic3Ryb2tlIjogdHJ1ZSwgIndlaWdodCI6IDN9CiAgICAgICAgICAgICkuYWRkVG8obWFwXzBjZWYyMjZiYjIwMDQ1MzBiMGNmMjEzMzNiY2IwMDRjKTsKICAgICAgICAKICAgIAogICAgICAgIHZhciBwb3B1cF8xYmU5NmVlOWEwNTA0NGMxYmZjYjQ2YzA4ZGQxOGFhMiA9IEwucG9wdXAoeyJtYXhXaWR0aCI6ICIxMDAlIn0pOwoKICAgICAgICAKICAgICAgICAgICAgdmFyIGh0bWxfMWI4NmMzMzg0ODliNDg4NDljMTRjNDhkZDZkMGZlN2YgPSAkKGA8ZGl2IGlkPSJodG1sXzFiODZjMzM4NDg5YjQ4ODQ5YzE0YzQ4ZGQ2ZDBmZTdmIiBzdHlsZT0id2lkdGg6IDEwMC4wJTsgaGVpZ2h0OiAxMDAuMCU7Ij5XZXN0IFRvcm9udG88L2Rpdj5gKVswXTsKICAgICAgICAgICAgcG9wdXBfMWJlOTZlZTlhMDUwNDRjMWJmY2I0NmMwOGRkMThhYTIuc2V0Q29udGVudChodG1sXzFiODZjMzM4NDg5YjQ4ODQ5YzE0YzQ4ZGQ2ZDBmZTdmKTsKICAgICAgICAKCiAgICAgICAgY2lyY2xlX21hcmtlcl9hZTU4ZTgzYjcyNmU0YzEzOTk0OTAwNDU3NDE2ZDc5MC5iaW5kUG9wdXAocG9wdXBfMWJlOTZlZTlhMDUwNDRjMWJmY2I0NmMwOGRkMThhYTIpCiAgICAgICAgOwoKICAgICAgICAKICAgIAogICAgCiAgICAgICAgICAgIHZhciBjaXJjbGVfbWFya2VyXzczZWFhYTU1MWU1ZjQ4OTY4MjIzZmNiNjkxYThhMzM3ID0gTC5jaXJjbGVNYXJrZXIoCiAgICAgICAgICAgICAgICBbNDMuNjM2ODQ3MiwgLTc5LjQyODE5MTQwMDAwMDAyXSwKICAgICAgICAgICAgICAgIHsiYnViYmxpbmdNb3VzZUV2ZW50cyI6IHRydWUsICJjb2xvciI6ICJibGFjayIsICJkYXNoQXJyYXkiOiBudWxsLCAiZGFzaE9mZnNldCI6IG51bGwsICJmaWxsIjogdHJ1ZSwgImZpbGxDb2xvciI6ICJyZWQiLCAiZmlsbE9wYWNpdHkiOiAwLjcsICJmaWxsUnVsZSI6ICJldmVub2RkIiwgImxpbmVDYXAiOiAicm91bmQiLCAibGluZUpvaW4iOiAicm91bmQiLCAib3BhY2l0eSI6IDEuMCwgInJhZGl1cyI6IDUsICJzdHJva2UiOiB0cnVlLCAid2VpZ2h0IjogM30KICAgICAgICAgICAgKS5hZGRUbyhtYXBfMGNlZjIyNmJiMjAwNDUzMGIwY2YyMTMzM2JjYjAwNGMpOwogICAgICAgIAogICAgCiAgICAgICAgdmFyIHBvcHVwXzg5YWYzNjhmYzFiMDQ5NGZhNDNjZjE2OWZlMjNmNDZjID0gTC5wb3B1cCh7Im1heFdpZHRoIjogIjEwMCUifSk7CgogICAgICAgIAogICAgICAgICAgICB2YXIgaHRtbF85ZDdiMjdjYjk1NDA0OGQ5OGQwYmNiOWE5MWUzZmY1MyA9ICQoYDxkaXYgaWQ9Imh0bWxfOWQ3YjI3Y2I5NTQwNDhkOThkMGJjYjlhOTFlM2ZmNTMiIHN0eWxlPSJ3aWR0aDogMTAwLjAlOyBoZWlnaHQ6IDEwMC4wJTsiPldlc3QgVG9yb250bzwvZGl2PmApWzBdOwogICAgICAgICAgICBwb3B1cF84OWFmMzY4ZmMxYjA0OTRmYTQzY2YxNjlmZTIzZjQ2Yy5zZXRDb250ZW50KGh0bWxfOWQ3YjI3Y2I5NTQwNDhkOThkMGJjYjlhOTFlM2ZmNTMpOwogICAgICAgIAoKICAgICAgICBjaXJjbGVfbWFya2VyXzczZWFhYTU1MWU1ZjQ4OTY4MjIzZmNiNjkxYThhMzM3LmJpbmRQb3B1cChwb3B1cF84OWFmMzY4ZmMxYjA0OTRmYTQzY2YxNjlmZTIzZjQ2YykKICAgICAgICA7CgogICAgICAgIAogICAgCiAgICAKICAgICAgICAgICAgdmFyIGNpcmNsZV9tYXJrZXJfNTkzMWMyMDM1MDk1NDQwZDk0NmQyZjE1OGI3MWRhMzYgPSBMLmNpcmNsZU1hcmtlcigKICAgICAgICAgICAgICAgIFs0My42NjE2MDgzLCAtNzkuNDY0NzYzMjk5OTk5OTldLAogICAgICAgICAgICAgICAgeyJidWJibGluZ01vdXNlRXZlbnRzIjogdHJ1ZSwgImNvbG9yIjogImJsYWNrIiwgImRhc2hBcnJheSI6IG51bGwsICJkYXNoT2Zmc2V0IjogbnVsbCwgImZpbGwiOiB0cnVlLCAiZmlsbENvbG9yIjogInJlZCIsICJmaWxsT3BhY2l0eSI6IDAuNywgImZpbGxSdWxlIjogImV2ZW5vZGQiLCAibGluZUNhcCI6ICJyb3VuZCIsICJsaW5lSm9pbiI6ICJyb3VuZCIsICJvcGFjaXR5IjogMS4wLCAicmFkaXVzIjogNSwgInN0cm9rZSI6IHRydWUsICJ3ZWlnaHQiOiAzfQogICAgICAgICAgICApLmFkZFRvKG1hcF8wY2VmMjI2YmIyMDA0NTMwYjBjZjIxMzMzYmNiMDA0Yyk7CiAgICAgICAgCiAgICAKICAgICAgICB2YXIgcG9wdXBfMjgzN2Q0ZjUwYTZkNGEyYmFiNTE2N2UwYzVjYzlmOWEgPSBMLnBvcHVwKHsibWF4V2lkdGgiOiAiMTAwJSJ9KTsKCiAgICAgICAgCiAgICAgICAgICAgIHZhciBodG1sX2NjYWY3Y2FkODQ1ZTQ4MDI4MWY3ZTAwODY2ZDc5MDg2ID0gJChgPGRpdiBpZD0iaHRtbF9jY2FmN2NhZDg0NWU0ODAyODFmN2UwMDg2NmQ3OTA4NiIgc3R5bGU9IndpZHRoOiAxMDAuMCU7IGhlaWdodDogMTAwLjAlOyI+V2VzdCBUb3JvbnRvPC9kaXY+YClbMF07CiAgICAgICAgICAgIHBvcHVwXzI4MzdkNGY1MGE2ZDRhMmJhYjUxNjdlMGM1Y2M5ZjlhLnNldENvbnRlbnQoaHRtbF9jY2FmN2NhZDg0NWU0ODAyODFmN2UwMDg2NmQ3OTA4Nik7CiAgICAgICAgCgogICAgICAgIGNpcmNsZV9tYXJrZXJfNTkzMWMyMDM1MDk1NDQwZDk0NmQyZjE1OGI3MWRhMzYuYmluZFBvcHVwKHBvcHVwXzI4MzdkNGY1MGE2ZDRhMmJhYjUxNjdlMGM1Y2M5ZjlhKQogICAgICAgIDsKCiAgICAgICAgCiAgICAKICAgIAogICAgICAgICAgICB2YXIgY2lyY2xlX21hcmtlcl9mMmYxNGY0ZmFiMjU0NTA1ODE5OGU2YjBiNGJlMDhhOCA9IEwuY2lyY2xlTWFya2VyKAogICAgICAgICAgICAgICAgWzQzLjY0ODk1OTcsIC03OS40NTYzMjVdLAogICAgICAgICAgICAgICAgeyJidWJibGluZ01vdXNlRXZlbnRzIjogdHJ1ZSwgImNvbG9yIjogImJsYWNrIiwgImRhc2hBcnJheSI6IG51bGwsICJkYXNoT2Zmc2V0IjogbnVsbCwgImZpbGwiOiB0cnVlLCAiZmlsbENvbG9yIjogInJlZCIsICJmaWxsT3BhY2l0eSI6IDAuNywgImZpbGxSdWxlIjogImV2ZW5vZGQiLCAibGluZUNhcCI6ICJyb3VuZCIsICJsaW5lSm9pbiI6ICJyb3VuZCIsICJvcGFjaXR5IjogMS4wLCAicmFkaXVzIjogNSwgInN0cm9rZSI6IHRydWUsICJ3ZWlnaHQiOiAzfQogICAgICAgICAgICApLmFkZFRvKG1hcF8wY2VmMjI2YmIyMDA0NTMwYjBjZjIxMzMzYmNiMDA0Yyk7CiAgICAgICAgCiAgICAKICAgICAgICB2YXIgcG9wdXBfMWVhMTdlNGM5MzZjNDE2NWI1NzBmMzZlMTAwODJlMDcgPSBMLnBvcHVwKHsibWF4V2lkdGgiOiAiMTAwJSJ9KTsKCiAgICAgICAgCiAgICAgICAgICAgIHZhciBodG1sXzJhY2EyZWE1YzhlNTQ2YmRiZGJlN2FlMzkwYmRjOTBhID0gJChgPGRpdiBpZD0iaHRtbF8yYWNhMmVhNWM4ZTU0NmJkYmRiZTdhZTM5MGJkYzkwYSIgc3R5bGU9IndpZHRoOiAxMDAuMCU7IGhlaWdodDogMTAwLjAlOyI+V2VzdCBUb3JvbnRvPC9kaXY+YClbMF07CiAgICAgICAgICAgIHBvcHVwXzFlYTE3ZTRjOTM2YzQxNjViNTcwZjM2ZTEwMDgyZTA3LnNldENvbnRlbnQoaHRtbF8yYWNhMmVhNWM4ZTU0NmJkYmRiZTdhZTM5MGJkYzkwYSk7CiAgICAgICAgCgogICAgICAgIGNpcmNsZV9tYXJrZXJfZjJmMTRmNGZhYjI1NDUwNTgxOThlNmIwYjRiZTA4YTguYmluZFBvcHVwKHBvcHVwXzFlYTE3ZTRjOTM2YzQxNjViNTcwZjM2ZTEwMDgyZTA3KQogICAgICAgIDsKCiAgICAgICAgCiAgICAKICAgIAogICAgICAgICAgICB2YXIgY2lyY2xlX21hcmtlcl9jMjBkMjhlZGI1NDM0YTIzYjM3NjIxZDU1NTRjMzQ5MyA9IEwuY2lyY2xlTWFya2VyKAogICAgICAgICAgICAgICAgWzQzLjY1MTU3MDYsIC03OS40ODQ0NDk5XSwKICAgICAgICAgICAgICAgIHsiYnViYmxpbmdNb3VzZUV2ZW50cyI6IHRydWUsICJjb2xvciI6ICJibGFjayIsICJkYXNoQXJyYXkiOiBudWxsLCAiZGFzaE9mZnNldCI6IG51bGwsICJmaWxsIjogdHJ1ZSwgImZpbGxDb2xvciI6ICJyZWQiLCAiZmlsbE9wYWNpdHkiOiAwLjcsICJmaWxsUnVsZSI6ICJldmVub2RkIiwgImxpbmVDYXAiOiAicm91bmQiLCAibGluZUpvaW4iOiAicm91bmQiLCAib3BhY2l0eSI6IDEuMCwgInJhZGl1cyI6IDUsICJzdHJva2UiOiB0cnVlLCAid2VpZ2h0IjogM30KICAgICAgICAgICAgKS5hZGRUbyhtYXBfMGNlZjIyNmJiMjAwNDUzMGIwY2YyMTMzM2JjYjAwNGMpOwogICAgICAgIAogICAgCiAgICAgICAgdmFyIHBvcHVwXzQyZWU5NTcwMGU1MDRkNjk4ZmI3NTdhN2EyNmJlODFlID0gTC5wb3B1cCh7Im1heFdpZHRoIjogIjEwMCUifSk7CgogICAgICAgIAogICAgICAgICAgICB2YXIgaHRtbF8yMmU2MGQyNDU4OWQ0ODBmYjk1MGZmOTU4YmI5YTk1MyA9ICQoYDxkaXYgaWQ9Imh0bWxfMjJlNjBkMjQ1ODlkNDgwZmI5NTBmZjk1OGJiOWE5NTMiIHN0eWxlPSJ3aWR0aDogMTAwLjAlOyBoZWlnaHQ6IDEwMC4wJTsiPldlc3QgVG9yb250bzwvZGl2PmApWzBdOwogICAgICAgICAgICBwb3B1cF80MmVlOTU3MDBlNTA0ZDY5OGZiNzU3YTdhMjZiZTgxZS5zZXRDb250ZW50KGh0bWxfMjJlNjBkMjQ1ODlkNDgwZmI5NTBmZjk1OGJiOWE5NTMpOwogICAgICAgIAoKICAgICAgICBjaXJjbGVfbWFya2VyX2MyMGQyOGVkYjU0MzRhMjNiMzc2MjFkNTU1NGMzNDkzLmJpbmRQb3B1cChwb3B1cF80MmVlOTU3MDBlNTA0ZDY5OGZiNzU3YTdhMjZiZTgxZSkKICAgICAgICA7CgogICAgICAgIAogICAgCiAgICAKICAgICAgICAgICAgdmFyIGNpcmNsZV9tYXJrZXJfMTE3ZjRmY2QwZjc2NDE4ZThmNDY0ZGEzMWY3Nzc2NDAgPSBMLmNpcmNsZU1hcmtlcigKICAgICAgICAgICAgICAgIFs0My42NjIzMDE1LCAtNzkuMzg5NDkzOF0sCiAgICAgICAgICAgICAgICB7ImJ1YmJsaW5nTW91c2VFdmVudHMiOiB0cnVlLCAiY29sb3IiOiAiYmxhY2siLCAiZGFzaEFycmF5IjogbnVsbCwgImRhc2hPZmZzZXQiOiBudWxsLCAiZmlsbCI6IHRydWUsICJmaWxsQ29sb3IiOiAieWVsbG93IiwgImZpbGxPcGFjaXR5IjogMC43LCAiZmlsbFJ1bGUiOiAiZXZlbm9kZCIsICJsaW5lQ2FwIjogInJvdW5kIiwgImxpbmVKb2luIjogInJvdW5kIiwgIm9wYWNpdHkiOiAxLjAsICJyYWRpdXMiOiA1LCAic3Ryb2tlIjogdHJ1ZSwgIndlaWdodCI6IDN9CiAgICAgICAgICAgICkuYWRkVG8obWFwXzBjZWYyMjZiYjIwMDQ1MzBiMGNmMjEzMzNiY2IwMDRjKTsKICAgICAgICAKICAgIAogICAgICAgIHZhciBwb3B1cF81MDJhNmNkMzgyNTI0MTZhOGU1OWYzMGNlZjY4NDVjMCA9IEwucG9wdXAoeyJtYXhXaWR0aCI6ICIxMDAlIn0pOwoKICAgICAgICAKICAgICAgICAgICAgdmFyIGh0bWxfNGNkMTQ2NTUwNDg1NDYxN2IwYzYzN2UwODM1ZmRiNzQgPSAkKGA8ZGl2IGlkPSJodG1sXzRjZDE0NjU1MDQ4NTQ2MTdiMGM2MzdlMDgzNWZkYjc0IiBzdHlsZT0id2lkdGg6IDEwMC4wJTsgaGVpZ2h0OiAxMDAuMCU7Ij5Eb3dudG93biBUb3JvbnRvPC9kaXY+YClbMF07CiAgICAgICAgICAgIHBvcHVwXzUwMmE2Y2QzODI1MjQxNmE4ZTU5ZjMwY2VmNjg0NWMwLnNldENvbnRlbnQoaHRtbF80Y2QxNDY1NTA0ODU0NjE3YjBjNjM3ZTA4MzVmZGI3NCk7CiAgICAgICAgCgogICAgICAgIGNpcmNsZV9tYXJrZXJfMTE3ZjRmY2QwZjc2NDE4ZThmNDY0ZGEzMWY3Nzc2NDAuYmluZFBvcHVwKHBvcHVwXzUwMmE2Y2QzODI1MjQxNmE4ZTU5ZjMwY2VmNjg0NWMwKQogICAgICAgIDsKCiAgICAgICAgCiAgICAKICAgIAogICAgICAgICAgICB2YXIgY2lyY2xlX21hcmtlcl85NTdjMTg2YjdhNjc0ZmJlODUxNzg0OWZhMTlmZjZiYSA9IEwuY2lyY2xlTWFya2VyKAogICAgICAgICAgICAgICAgWzQzLjY2Mjc0MzksIC03OS4zMjE1NThdLAogICAgICAgICAgICAgICAgeyJidWJibGluZ01vdXNlRXZlbnRzIjogdHJ1ZSwgImNvbG9yIjogImJsYWNrIiwgImRhc2hBcnJheSI6IG51bGwsICJkYXNoT2Zmc2V0IjogbnVsbCwgImZpbGwiOiB0cnVlLCAiZmlsbENvbG9yIjogImdyZWVuIiwgImZpbGxPcGFjaXR5IjogMC43LCAiZmlsbFJ1bGUiOiAiZXZlbm9kZCIsICJsaW5lQ2FwIjogInJvdW5kIiwgImxpbmVKb2luIjogInJvdW5kIiwgIm9wYWNpdHkiOiAxLjAsICJyYWRpdXMiOiA1LCAic3Ryb2tlIjogdHJ1ZSwgIndlaWdodCI6IDN9CiAgICAgICAgICAgICkuYWRkVG8obWFwXzBjZWYyMjZiYjIwMDQ1MzBiMGNmMjEzMzNiY2IwMDRjKTsKICAgICAgICAKICAgIAogICAgICAgIHZhciBwb3B1cF85MThjZTE4ZmJiMDY0NzBmYThjOTYyYjQzODI5MTUwMyA9IEwucG9wdXAoeyJtYXhXaWR0aCI6ICIxMDAlIn0pOwoKICAgICAgICAKICAgICAgICAgICAgdmFyIGh0bWxfMzhmMGRlOTU0NGQ0NGY4Zjg3ZGM1ZGQxMzg0ZjU2MzYgPSAkKGA8ZGl2IGlkPSJodG1sXzM4ZjBkZTk1NDRkNDRmOGY4N2RjNWRkMTM4NGY1NjM2IiBzdHlsZT0id2lkdGg6IDEwMC4wJTsgaGVpZ2h0OiAxMDAuMCU7Ij5FYXN0IFRvcm9udG88L2Rpdj5gKVswXTsKICAgICAgICAgICAgcG9wdXBfOTE4Y2UxOGZiYjA2NDcwZmE4Yzk2MmI0MzgyOTE1MDMuc2V0Q29udGVudChodG1sXzM4ZjBkZTk1NDRkNDRmOGY4N2RjNWRkMTM4NGY1NjM2KTsKICAgICAgICAKCiAgICAgICAgY2lyY2xlX21hcmtlcl85NTdjMTg2YjdhNjc0ZmJlODUxNzg0OWZhMTlmZjZiYS5iaW5kUG9wdXAocG9wdXBfOTE4Y2UxOGZiYjA2NDcwZmE4Yzk2MmI0MzgyOTE1MDMpCiAgICAgICAgOwoKICAgICAgICAKICAgIAo8L3NjcmlwdD4= onload=\"this.contentDocument.open();this.contentDocument.write(atob(this.getAttribute('data-html')));this.contentDocument.close();\" allowfullscreen webkitallowfullscreen mozallowfullscreen></iframe></div></div>"
      ],
      "text/plain": [
       "<folium.folium.Map at 0x1c6a3100>"
      ]
     },
     "execution_count": 13,
     "metadata": {},
     "output_type": "execute_result"
    }
   ],
   "source": [
    "toronto_map = folium.Map(location=[43.65, -79.4], zoom_start=12)\n",
    "\n",
    "X = df3['Latitude']\n",
    "Y = df3['Longitude']\n",
    "Z = np.stack((X, Y), axis=1)\n",
    "\n",
    "kmeans = KMeans(n_clusters=4, random_state=0).fit(Z)\n",
    "\n",
    "clusters = kmeans.labels_\n",
    "colors = ['red', 'green', 'blue', 'yellow']\n",
    "df3['Cluster'] = clusters\n",
    "\n",
    "for latitude, longitude, borough, cluster in zip(df3['Latitude'], df3['Longitude'], df3['Borough'], df3['Cluster']):\n",
    "    label = folium.Popup(borough, parse_html=True)\n",
    "    folium.CircleMarker(\n",
    "        [latitude, longitude],\n",
    "        radius=5,\n",
    "        popup=label,\n",
    "        color='black',\n",
    "        fill=True,\n",
    "        fill_color=colors[cluster],\n",
    "        fill_opacity=0.7).add_to(toronto_map)  \n",
    "\n",
    "toronto_map"
   ]
  }
 ],
 "metadata": {
  "kernelspec": {
   "display_name": "Python 3",
   "language": "python",
   "name": "python3"
  },
  "language_info": {
   "codemirror_mode": {
    "name": "ipython",
    "version": 3
   },
   "file_extension": ".py",
   "mimetype": "text/x-python",
   "name": "python",
   "nbconvert_exporter": "python",
   "pygments_lexer": "ipython3",
   "version": "3.8.5"
  }
 },
 "nbformat": 4,
 "nbformat_minor": 4
}
